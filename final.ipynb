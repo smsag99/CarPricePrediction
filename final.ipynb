{
  "cells": [
    {
      "cell_type": "code",
      "execution_count": 564,
      "metadata": {
        "id": "q4ampCOPIQOc"
      },
      "outputs": [],
      "source": [
        "import pandas as pd\n",
        "import numpy as np\n",
        "import matplotlib.pyplot as plt\n",
        "from sklearn.model_selection import train_test_split\n",
        "from sklearn.preprocessing import OneHotEncoder, StandardScaler\n",
        "from sklearn.compose import ColumnTransformer\n",
        "from sklearn.pipeline import Pipeline\n",
        "from sklearn.ensemble import RandomForestRegressor\n",
        "from sklearn.metrics import mean_absolute_error\n",
        "from sklearn.metrics import r2_score\n",
        "from sklearn.model_selection import GridSearchCV\n",
        "from sklearn.feature_extraction.text import TfidfVectorizer\n",
        "from sklearn.decomposition import TruncatedSVD\n",
        "from hazm import Lemmatizer\n"
      ]
    },
    {
      "cell_type": "markdown",
      "metadata": {
        "id": "rD2MZ4KKIQOd"
      },
      "source": [
        "## Reading Dataset"
      ]
    },
    {
      "cell_type": "code",
      "execution_count": 565,
      "metadata": {
        "id": "1fb5ZHCTIQOe"
      },
      "outputs": [],
      "source": [
        "df_test = pd.read_csv(\"./data/test.csv\")\n",
        "df_train = pd.read_csv(\"./data/train.csv\")\n"
      ]
    },
    {
      "cell_type": "code",
      "execution_count": 566,
      "metadata": {
        "id": "KMcUjSRuIQOe"
      },
      "outputs": [],
      "source": [
        "df_merged = pd.concat([df_train,df_test], ignore_index=True,sort=False)\n"
      ]
    },
    {
      "cell_type": "code",
      "execution_count": 567,
      "metadata": {
        "id": "33c4SPchIQOg"
      },
      "outputs": [],
      "source": [
        "\n",
        "def convDescription(df):\n",
        "    vectorizer = TfidfVectorizer(max_features=2)  \n",
        "    tfidf_matrix = vectorizer.fit_transform(df['description'])\n",
        "\n",
        "    svd = TruncatedSVD(n_components=2)  \n",
        "    reduced_features = svd.fit_transform(tfidf_matrix)\n",
        "\n",
        "\n",
        "    df['description'] = reduced_features\n",
        "    return df"
      ]
    },
    {
      "cell_type": "code",
      "execution_count": 568,
      "metadata": {
        "id": "t5vhOSZJIQOg"
      },
      "outputs": [],
      "source": [
        "def convDescription2(df):\n",
        "    df['description'].fillna(\"null\",inplace=True)\n",
        "    df['description'].fillna(\"null\",inplace=True)\n",
        "\n",
        "    lemmatizer = Lemmatizer()\n",
        "\n",
        "\n",
        "    def lemmatize_text(text):\n",
        "        return ' '.join([lemmatizer.lemmatize(word) for word in text.split()])\n",
        "\n",
        "    df['description'] = df['description'].apply(lemmatize_text)\n",
        "\n",
        "    vectorizer = TfidfVectorizer(min_df=0.005,max_df=0.025)\n",
        "    tfidf_matrix = vectorizer.fit_transform(list(df['description']))\n",
        "\n",
        "    # svd = TruncatedSVD(n_components=1)\n",
        "    # reduced_features = svd.fit_transform(tfidf_matrix)\n",
        "    # print(reduced_features.shape)\n",
        "    # df['description'] = reduced_features\n",
        "\n",
        "    feature_names = vectorizer.get_feature_names_out()\n",
        "\n",
        "    df2 = pd.DataFrame(tfidf_matrix.toarray(), columns=feature_names)\n",
        "\n",
        "    df = pd.concat([df,df2],axis=1)\n",
        "    return df , tfidf_matrix"
      ]
    },
    {
      "cell_type": "code",
      "execution_count": 569,
      "metadata": {
        "colab": {
          "base_uri": "https://localhost:8080/"
        },
        "id": "1KV-Ri1KIQOg",
        "outputId": "c7759ec7-bd8b-4579-8917-d35bc2d23259"
      },
      "outputs": [
        {
          "name": "stderr",
          "output_type": "stream",
          "text": [
            "/var/folders/4x/xd241drd2jld1w2dp_1m4m280000gn/T/ipykernel_16430/816820472.py:6: FutureWarning: A value is trying to be set on a copy of a DataFrame or Series through chained assignment using an inplace method.\n",
            "The behavior will change in pandas 3.0. This inplace method will never work because the intermediate object on which we are setting values always behaves as a copy.\n",
            "\n",
            "For example, when doing 'df[col].method(value, inplace=True)', try using 'df.method({col: value}, inplace=True)' or df[col] = df[col].method(value) instead, to perform the operation inplace on the original object.\n",
            "\n",
            "\n",
            "  df['description'].fillna(\"null\",inplace=True)\n"
          ]
        }
      ],
      "source": [
        "df_merged,a = convDescription2(df_merged)"
      ]
    },
    {
      "cell_type": "code",
      "execution_count": 570,
      "metadata": {},
      "outputs": [
        {
          "data": {
            "text/plain": [
              "['title',\n",
              " 'year',\n",
              " 'mileage',\n",
              " 'transmission',\n",
              " 'fuel',\n",
              " 'body_color',\n",
              " 'inside_color',\n",
              " 'body_status',\n",
              " 'description',\n",
              " 'body_type',\n",
              " 'volume',\n",
              " 'engine',\n",
              " 'acceleration',\n",
              " 'price',\n",
              " '10',\n",
              " '11',\n",
              " '12',\n",
              " 'esp',\n",
              " 'آخر',\n",
              " 'آفتاب',\n",
              " 'آلومینیوم',\n",
              " 'آماده',\n",
              " 'آمریکایی',\n",
              " 'آپشن',\n",
              " 'آینه',\n",
              " 'ابتدا',\n",
              " 'اتاق',\n",
              " 'اتو',\n",
              " 'ارتفاع',\n",
              " 'اردیبهشت',\n",
              " 'اس',\n",
              " 'اساسی',\n",
              " 'استارت',\n",
              " 'استثنایی',\n",
              " 'اسفند',\n",
              " 'اسپرت',\n",
              " 'اصلا',\n",
              " 'اصلی',\n",
              " 'اضافه',\n",
              " 'اطلاعات',\n",
              " 'افتاب',\n",
              " 'اقساط',\n",
              " 'الی',\n",
              " 'ام',\n",
              " 'اماده',\n",
              " 'انتقال',\n",
              " 'انداخت',\n",
              " 'انداز',\n",
              " 'اندازه',\n",
              " 'اندروید',\n",
              " 'اپشن',\n",
              " 'اگه',\n",
              " 'ایران',\n",
              " 'ایربگ',\n",
              " 'این',\n",
              " 'اینه',\n",
              " 'اینچ',\n",
              " 'باتری',\n",
              " 'باد',\n",
              " 'بار',\n",
              " 'باران',\n",
              " 'باربند',\n",
              " 'باز',\n",
              " 'باسلام',\n",
              " 'باشد',\n",
              " 'بالا',\n",
              " 'بالای',\n",
              " 'باند',\n",
              " 'بخاری',\n",
              " 'بخاطر',\n",
              " 'بدلیل',\n",
              " 'بدونه',\n",
              " 'بر',\n",
              " 'برد',\n",
              " 'برگه',\n",
              " 'بزرگ',\n",
              " 'بست',\n",
              " 'بشرط',\n",
              " 'بعد',\n",
              " 'بلوتوث',\n",
              " 'بند',\n",
              " 'بنزین',\n",
              " 'بهترین',\n",
              " 'بهمن',\n",
              " 'بود',\n",
              " 'بگیره',\n",
              " 'بگیرید',\n",
              " 'بین',\n",
              " 'تاشو',\n",
              " 'تایر',\n",
              " 'تحویل',\n",
              " 'تر',\n",
              " 'ترمز',\n",
              " 'ترک',\n",
              " 'ترین',\n",
              " 'تشکر',\n",
              " 'تصویر',\n",
              " 'تنظیم',\n",
              " 'تو',\n",
              " 'تودوزی',\n",
              " 'توضیحات',\n",
              " 'تکمیل',\n",
              " 'تیکه',\n",
              " 'ثبت',\n",
              " 'جانبی',\n",
              " 'جدید',\n",
              " 'جزیی',\n",
              " 'جفت',\n",
              " 'جهت',\n",
              " 'جوش',\n",
              " 'جی',\n",
              " 'حالت',\n",
              " 'حالته',\n",
              " 'حتی',\n",
              " 'حدود',\n",
              " 'حساسیت',\n",
              " 'خارجی',\n",
              " 'خرجی',\n",
              " 'خشک',\n",
              " 'خواب',\n",
              " 'خوابیده',\n",
              " 'خوب',\n",
              " 'خودروی',\n",
              " 'خورده',\n",
              " 'خوردگی',\n",
              " 'خوش',\n",
              " 'خونگی',\n",
              " 'خیلی',\n",
              " 'داد',\n",
              " 'داده',\n",
              " 'دارد',\n",
              " 'داشبورد',\n",
              " 'داشته',\n",
              " 'درحد',\n",
              " 'دریچه',\n",
              " 'دسته',\n",
              " 'دستی',\n",
              " 'دلال',\n",
              " 'دلیل',\n",
              " 'ده',\n",
              " 'دوخت',\n",
              " 'دور',\n",
              " 'دوره',\n",
              " 'دوم',\n",
              " 'دوگانه',\n",
              " 'دی',\n",
              " 'دینام',\n",
              " 'را',\n",
              " 'رادار',\n",
              " 'رادیاتور',\n",
              " 'راست',\n",
              " 'رخ',\n",
              " 'رو',\n",
              " 'روز',\n",
              " 'روشن',\n",
              " 'روی',\n",
              " 'رکاب',\n",
              " 'ریال',\n",
              " 'ریز',\n",
              " 'زنون',\n",
              " 'زیبایی',\n",
              " 'ساب',\n",
              " 'ساعت',\n",
              " 'سالمه',\n",
              " 'ساله',\n",
              " 'ستون',\n",
              " 'سرامیک',\n",
              " 'سرحال',\n",
              " 'سرد',\n",
              " 'سرقت',\n",
              " 'سفارش',\n",
              " 'سلامت',\n",
              " 'سواری',\n",
              " 'سوخت',\n",
              " 'سوختگی',\n",
              " 'سوز',\n",
              " 'سپر',\n",
              " 'سیمی',\n",
              " 'سینی',\n",
              " 'شامل',\n",
              " 'شب',\n",
              " 'شتاب',\n",
              " 'شخص',\n",
              " 'شخصی',\n",
              " 'شد',\n",
              " 'شدن',\n",
              " 'شدگی',\n",
              " 'شرایط',\n",
              " 'شرکت',\n",
              " 'شما',\n",
              " 'شماره',\n",
              " 'شمع',\n",
              " 'شو',\n",
              " 'صافکاری',\n",
              " 'صبح',\n",
              " 'صدا',\n",
              " 'صوتی',\n",
              " 'صورت',\n",
              " 'ضبط',\n",
              " 'ضد',\n",
              " 'ضعف',\n",
              " 'طبق',\n",
              " 'طلایی',\n",
              " 'عرض',\n",
              " 'علت',\n",
              " 'عنوان',\n",
              " 'عکس',\n",
              " 'عیب',\n",
              " 'فاکتور',\n",
              " 'فرمای',\n",
              " 'فرمود',\n",
              " 'فرمون',\n",
              " 'فیلتر',\n",
              " 'قابل',\n",
              " 'قبل',\n",
              " 'قسمت',\n",
              " 'قطعات',\n",
              " 'قفل',\n",
              " 'لا',\n",
              " 'لازم',\n",
              " 'لحاظ',\n",
              " 'مابقی',\n",
              " 'مالی',\n",
              " 'مالیدگی',\n",
              " 'مثل',\n",
              " 'مدارک',\n",
              " 'مدل',\n",
              " 'مرتب',\n",
              " 'مسافرت',\n",
              " 'مسقف',\n",
              " 'مشتری',\n",
              " 'مشکل',\n",
              " 'مشکی',\n",
              " 'مقطوع',\n",
              " 'مموری',\n",
              " 'من',\n",
              " 'مهاجرت',\n",
              " 'موجود',\n",
              " 'موجوده',\n",
              " 'مید',\n",
              " 'میشه',\n",
              " 'میشود',\n",
              " 'میفروشم',\n",
              " 'میلیون',\n",
              " 'میکنم',\n",
              " 'نام',\n",
              " 'نخورده',\n",
              " 'نداره',\n",
              " 'نداشته',\n",
              " 'نرفته',\n",
              " 'نرم',\n",
              " 'نشده',\n",
              " 'نصب',\n",
              " 'نظر',\n",
              " 'نقد',\n",
              " 'نقدی',\n",
              " 'نقص',\n",
              " 'نقطه',\n",
              " 'نمایشگاه',\n",
              " 'نور',\n",
              " 'نگهداری',\n",
              " 'نیاز',\n",
              " 'نیست',\n",
              " 'هدلایت',\n",
              " 'هر',\n",
              " 'هزار',\n",
              " 'هزینه',\n",
              " 'هفته',\n",
              " 'هماهنگی',\n",
              " 'همراه',\n",
              " 'همگی',\n",
              " 'هنوز',\n",
              " 'هیدرولیک',\n",
              " 'هیچگونه',\n",
              " 'وارداتی',\n",
              " 'واقعا',\n",
              " 'وایر',\n",
              " 'وخش',\n",
              " 'وسواس',\n",
              " 'وضعیت',\n",
              " 'وقت',\n",
              " 'ولی',\n",
              " 'ویندوز',\n",
              " 'پا',\n",
              " 'پارس',\n",
              " 'پارک',\n",
              " 'پاسخگو',\n",
              " 'پاور',\n",
              " 'پایان',\n",
              " 'پایداری',\n",
              " 'پایونیر',\n",
              " 'پایی',\n",
              " 'پایین',\n",
              " 'پخش',\n",
              " 'پر',\n",
              " 'پرداخت',\n",
              " 'پرده',\n",
              " 'پشت',\n",
              " 'پلاک',\n",
              " 'پمپ',\n",
              " 'پنج',\n",
              " 'پوش',\n",
              " 'پول',\n",
              " 'پی',\n",
              " 'پیام',\n",
              " 'پیش',\n",
              " 'چرخ',\n",
              " 'چرمی',\n",
              " 'چند',\n",
              " 'چون',\n",
              " 'چپ',\n",
              " 'چی',\n",
              " 'کابین',\n",
              " 'کارت',\n",
              " 'کارخانه',\n",
              " 'کارشناس',\n",
              " 'کارمندی',\n",
              " 'کد',\n",
              " 'کره',\n",
              " 'کسب',\n",
              " 'کفپوش',\n",
              " 'کل',\n",
              " 'کلا',\n",
              " 'کلاچ',\n",
              " 'کلید',\n",
              " 'کلیه',\n",
              " 'کمک',\n",
              " 'کمی',\n",
              " 'کوچک',\n",
              " 'کوچکترین',\n",
              " 'کیت',\n",
              " 'کیلس',\n",
              " 'گاز',\n",
              " 'گذار',\n",
              " 'گذاشت',\n",
              " 'گرفته',\n",
              " 'گرم',\n",
              " 'گرمکن',\n",
              " 'گونه',\n",
              " 'یکسال',\n",
              " '۱۰۰',\n",
              " '۱۱',\n",
              " '۱۲',\n",
              " '۱۴۰۴',\n",
              " '۲۰',\n",
              " '۲۰۵',\n",
              " '۲۰۷',\n",
              " '۷۰',\n",
              " '۸۰',\n",
              " '۹۰']"
            ]
          },
          "execution_count": 570,
          "metadata": {},
          "output_type": "execute_result"
        }
      ],
      "source": [
        "list(df_merged.columns)"
      ]
    },
    {
      "cell_type": "code",
      "execution_count": 571,
      "metadata": {
        "id": "WCXL5ZLzIQOg"
      },
      "outputs": [],
      "source": [
        "df_train = df_merged[df_merged['price'].notna()].reset_index(drop=True)\n",
        "df_test = df_merged[df_merged['price'].isna()].reset_index(drop=True)\n",
        "df_test.drop('price',axis=1,inplace=True)\n",
        "# df_test.drop('description',axis=1,inplace=True)\n",
        "# df_train.drop('description',axis=1,inplace=True)"
      ]
    },
    {
      "cell_type": "markdown",
      "metadata": {
        "id": "MSc2FBASIQOg"
      },
      "source": [
        "# convert"
      ]
    },
    {
      "cell_type": "markdown",
      "metadata": {
        "id": "fuYPTitmIQOg"
      },
      "source": [
        "## convert years to same scale"
      ]
    },
    {
      "cell_type": "code",
      "execution_count": 572,
      "metadata": {
        "id": "DXgY1uDzIQOg"
      },
      "outputs": [],
      "source": [
        "def ConvYear(df):\n",
        "    df.year = df.year.map(lambda x: x if x<1500 else x-621)\n",
        "    return df"
      ]
    },
    {
      "cell_type": "code",
      "execution_count": 573,
      "metadata": {
        "id": "5TZ4r8q9IQOh"
      },
      "outputs": [],
      "source": [
        "df_train = ConvYear(df_train)\n",
        "df_test = ConvYear(df_test)\n"
      ]
    },
    {
      "cell_type": "markdown",
      "metadata": {
        "id": "63CgMb1IIQOh"
      },
      "source": [
        "## Mapping mileage columns to int"
      ]
    },
    {
      "cell_type": "code",
      "execution_count": 574,
      "metadata": {
        "id": "aPqmP32vIQOh"
      },
      "outputs": [],
      "source": [
        "def mapMil(x):\n",
        "    if (isinstance(x,str) and 'km' in x):\n",
        "        lenOfSentence = len(x)\n",
        "        km = lenOfSentence-3\n",
        "        return int(x[:km].replace(\",\",\"\"))\n",
        "    else:\n",
        "        return None\n",
        "def convMil(df):\n",
        "    df['mileage'] = df['mileage'].map(mapMil)\n",
        "    return df"
      ]
    },
    {
      "cell_type": "code",
      "execution_count": 575,
      "metadata": {
        "id": "oVbfJz9qIQOh"
      },
      "outputs": [],
      "source": [
        "df_train = convMil(df_train)\n",
        "df_test = convMil(df_test)\n"
      ]
    },
    {
      "cell_type": "code",
      "execution_count": 576,
      "metadata": {
        "colab": {
          "base_uri": "https://localhost:8080/",
          "height": 335
        },
        "id": "7L1zKH55IQOh",
        "outputId": "5411c9a6-b464-4ab6-f2d3-3fb6e1ca55a4"
      },
      "outputs": [
        {
          "data": {
            "text/plain": [
              "count      3629.000000\n",
              "mean     112184.834390\n",
              "std       91541.341537\n",
              "min          13.000000\n",
              "25%       37784.000000\n",
              "50%       91000.000000\n",
              "75%      168000.000000\n",
              "max      425000.000000\n",
              "Name: mileage, dtype: float64"
            ]
          },
          "execution_count": 576,
          "metadata": {},
          "output_type": "execute_result"
        }
      ],
      "source": [
        "df_test['mileage'].describe()"
      ]
    },
    {
      "cell_type": "markdown",
      "metadata": {
        "id": "lTOvemWLIQOh"
      },
      "source": [
        "## map price to int"
      ]
    },
    {
      "cell_type": "code",
      "execution_count": 577,
      "metadata": {
        "id": "sacRXLQjIQOh"
      },
      "outputs": [],
      "source": [
        "def convPrice(df):\n",
        "    df['price'] = df['price'].map(lambda x : int(x.replace(\",\",\"\")))\n",
        "    return df"
      ]
    },
    {
      "cell_type": "code",
      "execution_count": 578,
      "metadata": {
        "id": "zJATRkIZIQOh"
      },
      "outputs": [],
      "source": [
        "df_train = convPrice(df_train)\n"
      ]
    },
    {
      "cell_type": "markdown",
      "metadata": {
        "id": "-Mn3aowEIQOh"
      },
      "source": [
        "## Mapping acceleration columns to float"
      ]
    },
    {
      "cell_type": "code",
      "execution_count": 579,
      "metadata": {
        "id": "Of_CzCfqIQOh"
      },
      "outputs": [],
      "source": [
        "def mapAcc(x):\n",
        "    if (isinstance(x,str) and 'ثانیه' in x):\n",
        "        lenOfSentence = len(x)\n",
        "        km = lenOfSentence-5\n",
        "        return float(x[:km].replace(\"/\",\".\"))\n",
        "    else:\n",
        "        return None\n",
        "\n",
        "def convAcc(df):\n",
        "    df['acceleration'] = df['acceleration'].map(mapAcc)\n",
        "    return df"
      ]
    },
    {
      "cell_type": "code",
      "execution_count": 580,
      "metadata": {
        "id": "Ig3tXo8_IQOh"
      },
      "outputs": [],
      "source": [
        "df_train = convAcc(df_train)\n",
        "df_test = convAcc(df_test)\n"
      ]
    },
    {
      "cell_type": "markdown",
      "metadata": {
        "id": "9tg_GdqcIQOh"
      },
      "source": [
        "## Mapping Volume columns to float"
      ]
    },
    {
      "cell_type": "code",
      "execution_count": 581,
      "metadata": {
        "id": "pTzYFxpMIQOh"
      },
      "outputs": [],
      "source": [
        "def mapVol(x):\n",
        "    if (isinstance(x,str) and 'لیتر' in x):\n",
        "        lenOfSentence = len(x)\n",
        "        km = lenOfSentence-5\n",
        "        return float(x[:km].replace(\"/\",\".\"))\n",
        "    else:\n",
        "        return None\n",
        "def convVol(df):\n",
        "    df['volume'] = df['volume'].map(mapVol)\n",
        "    return df"
      ]
    },
    {
      "cell_type": "code",
      "execution_count": 582,
      "metadata": {
        "id": "_DAaSn7_IQOi"
      },
      "outputs": [],
      "source": [
        "df_train = convVol(df_train)\n",
        "df_test = convVol(df_test)\n"
      ]
    },
    {
      "cell_type": "markdown",
      "metadata": {
        "id": "fyLZi4gVIQOi"
      },
      "source": [
        "## Mapping Fuel columns to float"
      ]
    },
    {
      "cell_type": "code",
      "execution_count": 583,
      "metadata": {
        "id": "8nXH7U2NIQOi"
      },
      "outputs": [],
      "source": [
        "def mapToFloat(x):\n",
        "    if(pd.isna(x)):\n",
        "        return None\n",
        "    elif (len(x) > 5):\n",
        "        lenOfSentence = len(x)\n",
        "        liter = lenOfSentence-19\n",
        "        return float(x[:liter])\n",
        "\n",
        "def convFuel(df):\n",
        "    df['fuel'] = df['fuel'].map(mapToFloat)\n",
        "    return df"
      ]
    },
    {
      "cell_type": "code",
      "execution_count": 584,
      "metadata": {
        "id": "OPLW_3lVIQOi"
      },
      "outputs": [],
      "source": [
        "df_train = convFuel(df_train)\n",
        "df_test = convFuel(df_test)\n"
      ]
    },
    {
      "cell_type": "markdown",
      "metadata": {
        "id": "OK9vfoIAIQOi"
      },
      "source": [
        "## filling mil"
      ]
    },
    {
      "cell_type": "code",
      "execution_count": 585,
      "metadata": {
        "id": "VKxkMcz0IQOi"
      },
      "outputs": [],
      "source": [
        "def fillingMil(df):\n",
        "    df['mileage'] = df.apply(lambda x :(1403.3-x.year)*15000 if pd.isna(x['mileage']) else x.mileage,axis=1)\n",
        "    return df\n"
      ]
    },
    {
      "cell_type": "code",
      "execution_count": 586,
      "metadata": {
        "id": "G2p2kTkHIQOi"
      },
      "outputs": [],
      "source": [
        "df_train = fillingMil(df_train)\n",
        "df_test = fillingMil(df_test)\n"
      ]
    },
    {
      "cell_type": "markdown",
      "metadata": {
        "id": "OM7N2iwcIQOi"
      },
      "source": [
        "## filling cars"
      ]
    },
    {
      "cell_type": "code",
      "execution_count": 587,
      "metadata": {
        "id": "EahWS_4zIQOi"
      },
      "outputs": [],
      "source": [
        "def fillCars(df):\n",
        "    ## پراید صندوق دار\n",
        "    target = df['title'] == \"پراید، صندوق دار\"\n",
        "    df.loc[target,'fuel'] = df.loc[target,'fuel'].fillna(7.5)\n",
        "    df.loc[target,'volume'] = df.loc[target,'volume'].fillna(1.3)\n",
        "    df.loc[target,'engine'] = df.loc[target,'engine'].fillna(\"4 سیلندر یورو2 بهینه (M13)\")\n",
        "    df.loc[target,'acceleration'] = df.loc[target,'acceleration'].fillna(15)\n",
        "\n",
        "    ## پژو ۴۰۵\n",
        "\n",
        "    target = (df['title'] == 'پژو، 405')&(df['year']<=1390)\n",
        "    df.loc[target,'fuel'] = df.loc[target,'fuel'].fillna(9.0)\n",
        "    df.loc[target,'volume'] = df.loc[target,'volume'].fillna(1.8)\n",
        "    df.loc[target,'engine'] = df.loc[target,'engine'].fillna(\"4 سیلندر L3\")\n",
        "    df.loc[target,'acceleration'] = df.loc[target,'acceleration'].fillna(11.0)\n",
        "\n",
        "    df.loc[df['title'] == \"پژو، 405\",'engine'] = df.loc[df['title'] == \"پژو، 405\",'engine'].fillna(\"test\")\n",
        "    df.loc[df['engine']=='test','engine'] = '4 سیلندر L3'\n",
        "    df.loc[df['engine']=='4 سیلندر L3','acceleration'] = 13.2\n",
        "    df.loc[df['engine']=='4 سیلندر TU5','acceleration'] = 11\n",
        "\n",
        "    target = (df['title'] ==  'پژو، 405')\n",
        "    df.loc[target,'fuel'] = df.loc[target,'fuel'].fillna(9)\n",
        "    df.loc[target,'volume'] = df.loc[target,'volume'].fillna(1.8)\n",
        "\n",
        "    # 'سمند، X7'\n",
        "    target = df['title'] == 'سمند، X7'\n",
        "    df.loc[target,'fuel'] = df.loc[target,'fuel'].fillna(8.5)\n",
        "    df.loc[target,'volume'] = df.loc[target,'volume'].fillna(1.8)\n",
        "    df.loc[target,'engine'] = df.loc[target,'engine'].fillna(\"4 سیلندر\")\n",
        "    df.loc[target,'acceleration'] = df.loc[target,'acceleration'].fillna(14.9)\n",
        "\n",
        "    # 'ام وی ام، X22'\n",
        "    target = (df['title'] == 'ام وی ام، X22')&(df['transmission'] == 'دنده ای')\n",
        "    df.loc[target,'fuel'] = df.loc[target,'fuel'].fillna(5.9)\n",
        "    df.loc[target,'volume'] = df.loc[target,'volume'].fillna(1.5)\n",
        "    df.loc[target,'engine'] = df.loc[target,'engine'].fillna(\"4 سیلندر\")\n",
        "    df.loc[target,'acceleration'] = df.loc[target,'acceleration'].fillna(12.0)\n",
        "\n",
        "    target = (df['title'] == 'ام وی ام، X22')&(df['transmission'] == 'اتوماتیک')\n",
        "    df.loc[target,'fuel'] = df.loc[target,'fuel'].fillna(6.1)\n",
        "    df.loc[target,'volume'] = df.loc[target,'volume'].fillna(1.5)\n",
        "    df.loc[target,'engine'] = df.loc[target,'engine'].fillna(\"4 سیلندر\")\n",
        "    df.loc[target,'acceleration'] = df.loc[target,'acceleration'].fillna(12.7)\n",
        "\n",
        "    # پژو ۲۰۷\n",
        "    target = (df['title'] == 'پژو، 207')&(df['transmission'] == 'اتوماتیک')\n",
        "    df.loc[target,'fuel'] = df.loc[target,'fuel'].fillna(7.4)\n",
        "    df.loc[target,'volume'] = df.loc[target,'volume'].fillna(1.6)\n",
        "    df.loc[target,'engine'] = df.loc[target,'engine'].fillna(\"4 سیلندر TU5P\")\n",
        "    df.loc[target,'acceleration'] = df.loc[target,'acceleration'].fillna(12.6)\n",
        "\n",
        "    # کی ام سی، T8\n",
        "    target = (df['title'] == 'کی ام سی، T8')\n",
        "    df.loc[target,'fuel'] = df.loc[target,'fuel'].fillna(9.8)\n",
        "    df.loc[target,'acceleration'] = df.loc[target,'acceleration'].fillna(12.0)\n",
        "\n",
        "    # جک، S5\n",
        "    # دو لیتر اتوماتیک\n",
        "    # یکونیم لیتر اتوماتیک نال است\n",
        "    target = (df['title']=='جک، S5')&(df['volume']==1.5)\n",
        "    df.loc[target,'fuel'] = df.loc[target,'fuel'].fillna(11.0)\n",
        "    df.loc[target,'acceleration'] = df.loc[target,'acceleration'].fillna(7.5)\n",
        "\n",
        "    # ام وی ام، X22 PRO\n",
        "    # اتوماتیک همه یک لیتری هستندو  لیتری سوخت و شتاب خالی است\n",
        "    # دنده ای همه یکونیم لیتری و فقط شتاب خالی است.\n",
        "    target = (df['title']=='ام وی ام، X22 PRO')&(df['transmission']=='دنده ای')\n",
        "    df.loc[target,'acceleration'] = df.loc[target,'acceleration'].fillna(14.0)\n",
        "\n",
        "    target = (df['title']=='ام وی ام، X22 PRO')&(df['transmission']=='اتوماتیک')\n",
        "    df.loc[target,'fuel'] = df.loc[target,'fuel'].fillna(4.9)\n",
        "    df.loc[target,'acceleration'] = df.loc[target,'acceleration'].fillna(12.0)\n",
        "\n",
        "    # کی ام سی، J7\n",
        "    target = (df['title']=='کی ام سی، J7')\n",
        "    df.loc[target,'fuel'] = df.loc[target,'fuel'].fillna(6.7)\n",
        "    df.loc[target,'acceleration'] = df.loc[target,'acceleration'].fillna(6.7)\n",
        "\n",
        "    # ام وی ام، X55 PRO\n",
        "    target = (df['title']=='ام وی ام، X55 PRO')\n",
        "    df.loc[target,'fuel'] = df.loc[target,'fuel'].fillna(6.5)\n",
        "    df.loc[target,'acceleration'] = df.loc[target,'acceleration'].fillna(10.5)\n",
        "\n",
        "    # فونیکس، تیگو 7 پرو\n",
        "    target = (df['title']=='فونیکس، تیگو 7 پرو')\n",
        "    df.loc[target,'acceleration'] = df.loc[target,'acceleration'].fillna(9.8)\n",
        "\n",
        "\n",
        "    return df"
      ]
    },
    {
      "cell_type": "code",
      "execution_count": 588,
      "metadata": {
        "colab": {
          "base_uri": "https://localhost:8080/",
          "height": 458
        },
        "id": "o4DmqetPIQOo",
        "outputId": "09813efc-740a-4a07-bcad-946a8435b3f0"
      },
      "outputs": [
        {
          "data": {
            "text/plain": [
              "title             0\n",
              "year              0\n",
              "mileage           0\n",
              "transmission      0\n",
              "fuel            357\n",
              "               ... \n",
              "۲۰۵               0\n",
              "۲۰۷               0\n",
              "۷۰                0\n",
              "۸۰                0\n",
              "۹۰                0\n",
              "Length: 349, dtype: int64"
            ]
          },
          "execution_count": 588,
          "metadata": {},
          "output_type": "execute_result"
        }
      ],
      "source": [
        "df_test.isnull().sum()"
      ]
    },
    {
      "cell_type": "code",
      "execution_count": 589,
      "metadata": {
        "id": "qZn3N2OAIQOo"
      },
      "outputs": [],
      "source": [
        "def fillNullWithMean(df):\n",
        "    df['fuel'].fillna(df['fuel'].median(),inplace=True)\n",
        "    df['volume'].fillna(df['volume'].median(),inplace=True)\n",
        "    df['acceleration'].fillna(df['acceleration'].median(),inplace=True)\n",
        "    df['engine'].fillna('null',inplace=True)\n",
        "    return df"
      ]
    },
    {
      "cell_type": "code",
      "execution_count": 590,
      "metadata": {
        "colab": {
          "base_uri": "https://localhost:8080/",
          "height": 878
        },
        "id": "NFGMgF9iIQOo",
        "outputId": "5585c10a-792f-4016-ff60-8418fbc8645d"
      },
      "outputs": [
        {
          "data": {
            "text/html": [
              "<div>\n",
              "<style scoped>\n",
              "    .dataframe tbody tr th:only-of-type {\n",
              "        vertical-align: middle;\n",
              "    }\n",
              "\n",
              "    .dataframe tbody tr th {\n",
              "        vertical-align: top;\n",
              "    }\n",
              "\n",
              "    .dataframe thead th {\n",
              "        text-align: right;\n",
              "    }\n",
              "</style>\n",
              "<table border=\"1\" class=\"dataframe\">\n",
              "  <thead>\n",
              "    <tr style=\"text-align: right;\">\n",
              "      <th></th>\n",
              "      <th>title</th>\n",
              "      <th>year</th>\n",
              "      <th>mileage</th>\n",
              "      <th>transmission</th>\n",
              "      <th>fuel</th>\n",
              "      <th>body_color</th>\n",
              "      <th>inside_color</th>\n",
              "      <th>body_status</th>\n",
              "      <th>description</th>\n",
              "      <th>body_type</th>\n",
              "      <th>...</th>\n",
              "      <th>۱۰۰</th>\n",
              "      <th>۱۱</th>\n",
              "      <th>۱۲</th>\n",
              "      <th>۱۴۰۴</th>\n",
              "      <th>۲۰</th>\n",
              "      <th>۲۰۵</th>\n",
              "      <th>۲۰۷</th>\n",
              "      <th>۷۰</th>\n",
              "      <th>۸۰</th>\n",
              "      <th>۹۰</th>\n",
              "    </tr>\n",
              "  </thead>\n",
              "  <tbody>\n",
              "    <tr>\n",
              "      <th>42</th>\n",
              "      <td>ب ام و، سری 7</td>\n",
              "      <td>1396</td>\n",
              "      <td>7000.0</td>\n",
              "      <td>اتوماتیک</td>\n",
              "      <td>6.2</td>\n",
              "      <td>سفید</td>\n",
              "      <td>موکا</td>\n",
              "      <td>بدون رنگ</td>\n",
              "      <td>همراه با کارشناسی</td>\n",
              "      <td>passenger_car</td>\n",
              "      <td>...</td>\n",
              "      <td>0.0</td>\n",
              "      <td>0.0</td>\n",
              "      <td>0.0</td>\n",
              "      <td>0.0</td>\n",
              "      <td>0.0</td>\n",
              "      <td>0.0</td>\n",
              "      <td>0.0</td>\n",
              "      <td>0.0</td>\n",
              "      <td>0.0</td>\n",
              "      <td>0.0</td>\n",
              "    </tr>\n",
              "    <tr>\n",
              "      <th>48</th>\n",
              "      <td>ب ام و، X3</td>\n",
              "      <td>1395</td>\n",
              "      <td>55000.0</td>\n",
              "      <td>اتوماتیک</td>\n",
              "      <td>7.3</td>\n",
              "      <td>سفید</td>\n",
              "      <td>مشکی</td>\n",
              "      <td>بدون رنگ</td>\n",
              "      <td>فول کامل با کیت ام و در حد صفر سیستم هارمن فول...</td>\n",
              "      <td>crossover</td>\n",
              "      <td>...</td>\n",
              "      <td>0.0</td>\n",
              "      <td>0.0</td>\n",
              "      <td>0.0</td>\n",
              "      <td>0.0</td>\n",
              "      <td>0.0</td>\n",
              "      <td>0.0</td>\n",
              "      <td>0.0</td>\n",
              "      <td>0.0</td>\n",
              "      <td>0.0</td>\n",
              "      <td>0.0</td>\n",
              "    </tr>\n",
              "    <tr>\n",
              "      <th>55</th>\n",
              "      <td>ب ام و، سری 5 سدان</td>\n",
              "      <td>1395</td>\n",
              "      <td>30000.0</td>\n",
              "      <td>اتوماتیک</td>\n",
              "      <td>6.5</td>\n",
              "      <td>کربن بلک</td>\n",
              "      <td>موکا</td>\n",
              "      <td>بدون رنگ</td>\n",
              "      <td>فول ترین و کامل ترین نسخه وارد شده شرکت ۵ کلید...</td>\n",
              "      <td>passenger_car</td>\n",
              "      <td>...</td>\n",
              "      <td>0.0</td>\n",
              "      <td>0.0</td>\n",
              "      <td>0.0</td>\n",
              "      <td>0.0</td>\n",
              "      <td>0.0</td>\n",
              "      <td>0.0</td>\n",
              "      <td>0.0</td>\n",
              "      <td>0.0</td>\n",
              "      <td>0.0</td>\n",
              "      <td>0.0</td>\n",
              "    </tr>\n",
              "    <tr>\n",
              "      <th>68</th>\n",
              "      <td>لکسوس، NX</td>\n",
              "      <td>1396</td>\n",
              "      <td>35000.0</td>\n",
              "      <td>اتوماتیک</td>\n",
              "      <td>7.9</td>\n",
              "      <td>مشکی</td>\n",
              "      <td>مارون</td>\n",
              "      <td>بدون رنگ</td>\n",
              "      <td>۷ کلید عمان به شرط کارشناسی لطفا فقط تماس گرفت...</td>\n",
              "      <td>crossover</td>\n",
              "      <td>...</td>\n",
              "      <td>0.0</td>\n",
              "      <td>0.0</td>\n",
              "      <td>0.0</td>\n",
              "      <td>0.0</td>\n",
              "      <td>0.0</td>\n",
              "      <td>0.0</td>\n",
              "      <td>0.0</td>\n",
              "      <td>0.0</td>\n",
              "      <td>0.0</td>\n",
              "      <td>0.0</td>\n",
              "    </tr>\n",
              "    <tr>\n",
              "      <th>106</th>\n",
              "      <td>تویوتا، اف جی کروز</td>\n",
              "      <td>1390</td>\n",
              "      <td>150000.0</td>\n",
              "      <td>اتوماتیک</td>\n",
              "      <td>12.4</td>\n",
              "      <td>سفید</td>\n",
              "      <td>مشکی</td>\n",
              "      <td>بدون رنگ</td>\n",
              "      <td>null</td>\n",
              "      <td>suv</td>\n",
              "      <td>...</td>\n",
              "      <td>0.0</td>\n",
              "      <td>0.0</td>\n",
              "      <td>0.0</td>\n",
              "      <td>0.0</td>\n",
              "      <td>0.0</td>\n",
              "      <td>0.0</td>\n",
              "      <td>0.0</td>\n",
              "      <td>0.0</td>\n",
              "      <td>0.0</td>\n",
              "      <td>0.0</td>\n",
              "    </tr>\n",
              "    <tr>\n",
              "      <th>...</th>\n",
              "      <td>...</td>\n",
              "      <td>...</td>\n",
              "      <td>...</td>\n",
              "      <td>...</td>\n",
              "      <td>...</td>\n",
              "      <td>...</td>\n",
              "      <td>...</td>\n",
              "      <td>...</td>\n",
              "      <td>...</td>\n",
              "      <td>...</td>\n",
              "      <td>...</td>\n",
              "      <td>...</td>\n",
              "      <td>...</td>\n",
              "      <td>...</td>\n",
              "      <td>...</td>\n",
              "      <td>...</td>\n",
              "      <td>...</td>\n",
              "      <td>...</td>\n",
              "      <td>...</td>\n",
              "      <td>...</td>\n",
              "      <td>...</td>\n",
              "    </tr>\n",
              "    <tr>\n",
              "      <th>15423</th>\n",
              "      <td>بنز، کلاس S</td>\n",
              "      <td>1387</td>\n",
              "      <td>90000.0</td>\n",
              "      <td>اتوماتیک</td>\n",
              "      <td>NaN</td>\n",
              "      <td>سفید</td>\n",
              "      <td>کرم</td>\n",
              "      <td>چند لکه رنگ</td>\n",
              "      <td>یخچال- سقف جیر- سیستم صوتی هارمن- نایت-تنظیم ا...</td>\n",
              "      <td>passenger_car</td>\n",
              "      <td>...</td>\n",
              "      <td>0.0</td>\n",
              "      <td>0.0</td>\n",
              "      <td>0.0</td>\n",
              "      <td>0.0</td>\n",
              "      <td>0.0</td>\n",
              "      <td>0.0</td>\n",
              "      <td>0.0</td>\n",
              "      <td>0.0</td>\n",
              "      <td>0.0</td>\n",
              "      <td>0.0</td>\n",
              "    </tr>\n",
              "    <tr>\n",
              "      <th>15430</th>\n",
              "      <td>تویوتا، اف جی کروز</td>\n",
              "      <td>1391</td>\n",
              "      <td>220000.0</td>\n",
              "      <td>اتوماتیک</td>\n",
              "      <td>12.4</td>\n",
              "      <td>مشکی</td>\n",
              "      <td>مشکی</td>\n",
              "      <td>چند لکه رنگ</td>\n",
              "      <td>کد آگهی :2082 آپشن :فول اکستریم 6ایربگ -برای ه...</td>\n",
              "      <td>suv</td>\n",
              "      <td>...</td>\n",
              "      <td>0.0</td>\n",
              "      <td>0.0</td>\n",
              "      <td>0.0</td>\n",
              "      <td>0.0</td>\n",
              "      <td>0.0</td>\n",
              "      <td>0.0</td>\n",
              "      <td>0.0</td>\n",
              "      <td>0.0</td>\n",
              "      <td>0.0</td>\n",
              "      <td>0.0</td>\n",
              "    </tr>\n",
              "    <tr>\n",
              "      <th>15531</th>\n",
              "      <td>ب ام و، X4</td>\n",
              "      <td>1394</td>\n",
              "      <td>127000.0</td>\n",
              "      <td>اتوماتیک</td>\n",
              "      <td>7.4</td>\n",
              "      <td>قهوه ای</td>\n",
              "      <td>موکا</td>\n",
              "      <td>درب تعویض</td>\n",
              "      <td>بسیار سالم و بدون هیچ گونه خط و خش</td>\n",
              "      <td>crossover</td>\n",
              "      <td>...</td>\n",
              "      <td>0.0</td>\n",
              "      <td>0.0</td>\n",
              "      <td>0.0</td>\n",
              "      <td>0.0</td>\n",
              "      <td>0.0</td>\n",
              "      <td>0.0</td>\n",
              "      <td>0.0</td>\n",
              "      <td>0.0</td>\n",
              "      <td>0.0</td>\n",
              "      <td>0.0</td>\n",
              "    </tr>\n",
              "    <tr>\n",
              "      <th>15537</th>\n",
              "      <td>تویوتا، پرادو  چهار در</td>\n",
              "      <td>1389</td>\n",
              "      <td>170000.0</td>\n",
              "      <td>اتوماتیک</td>\n",
              "      <td>13.0</td>\n",
              "      <td>مشکی</td>\n",
              "      <td>مشکی</td>\n",
              "      <td>یک لکه رنگ</td>\n",
              "      <td>تنظیم ارتفاع دوربین عقب گرمکن کرال صندلی برقی ...</td>\n",
              "      <td>suv</td>\n",
              "      <td>...</td>\n",
              "      <td>0.0</td>\n",
              "      <td>0.0</td>\n",
              "      <td>0.0</td>\n",
              "      <td>0.0</td>\n",
              "      <td>0.0</td>\n",
              "      <td>0.0</td>\n",
              "      <td>0.0</td>\n",
              "      <td>0.0</td>\n",
              "      <td>0.0</td>\n",
              "      <td>0.0</td>\n",
              "    </tr>\n",
              "    <tr>\n",
              "      <th>15554</th>\n",
              "      <td>ب ام و، X4</td>\n",
              "      <td>1396</td>\n",
              "      <td>60000.0</td>\n",
              "      <td>اتوماتیک</td>\n",
              "      <td>7.4</td>\n",
              "      <td>مشکی</td>\n",
              "      <td>موکا</td>\n",
              "      <td>بدون رنگ</td>\n",
              "      <td>7 رادار با هوک تک برگ سند فوق العاده تمیز و سا...</td>\n",
              "      <td>crossover</td>\n",
              "      <td>...</td>\n",
              "      <td>0.0</td>\n",
              "      <td>0.0</td>\n",
              "      <td>0.0</td>\n",
              "      <td>0.0</td>\n",
              "      <td>0.0</td>\n",
              "      <td>0.0</td>\n",
              "      <td>0.0</td>\n",
              "      <td>0.0</td>\n",
              "      <td>0.0</td>\n",
              "      <td>0.0</td>\n",
              "    </tr>\n",
              "  </tbody>\n",
              "</table>\n",
              "<p>550 rows × 350 columns</p>\n",
              "</div>"
            ],
            "text/plain": [
              "                        title  year   mileage transmission  fuel body_color  \\\n",
              "42              ب ام و، سری 7  1396    7000.0     اتوماتیک   6.2       سفید   \n",
              "48                 ب ام و، X3  1395   55000.0     اتوماتیک   7.3       سفید   \n",
              "55         ب ام و، سری 5 سدان  1395   30000.0     اتوماتیک   6.5   کربن بلک   \n",
              "68                  لکسوس، NX  1396   35000.0     اتوماتیک   7.9       مشکی   \n",
              "106        تویوتا، اف جی کروز  1390  150000.0     اتوماتیک  12.4       سفید   \n",
              "...                       ...   ...       ...          ...   ...        ...   \n",
              "15423             بنز، کلاس S  1387   90000.0     اتوماتیک   NaN       سفید   \n",
              "15430      تویوتا، اف جی کروز  1391  220000.0     اتوماتیک  12.4       مشکی   \n",
              "15531              ب ام و، X4  1394  127000.0     اتوماتیک   7.4    قهوه ای   \n",
              "15537  تویوتا، پرادو  چهار در  1389  170000.0     اتوماتیک  13.0       مشکی   \n",
              "15554              ب ام و، X4  1396   60000.0     اتوماتیک   7.4       مشکی   \n",
              "\n",
              "      inside_color  body_status  \\\n",
              "42            موکا     بدون رنگ   \n",
              "48            مشکی     بدون رنگ   \n",
              "55            موکا     بدون رنگ   \n",
              "68           مارون     بدون رنگ   \n",
              "106           مشکی     بدون رنگ   \n",
              "...            ...          ...   \n",
              "15423          کرم  چند لکه رنگ   \n",
              "15430         مشکی  چند لکه رنگ   \n",
              "15531         موکا    درب تعویض   \n",
              "15537         مشکی   یک لکه رنگ   \n",
              "15554         موکا     بدون رنگ   \n",
              "\n",
              "                                             description      body_type  ...  \\\n",
              "42                                     همراه با کارشناسی  passenger_car  ...   \n",
              "48     فول کامل با کیت ام و در حد صفر سیستم هارمن فول...      crossover  ...   \n",
              "55     فول ترین و کامل ترین نسخه وارد شده شرکت ۵ کلید...  passenger_car  ...   \n",
              "68     ۷ کلید عمان به شرط کارشناسی لطفا فقط تماس گرفت...      crossover  ...   \n",
              "106                                                 null            suv  ...   \n",
              "...                                                  ...            ...  ...   \n",
              "15423  یخچال- سقف جیر- سیستم صوتی هارمن- نایت-تنظیم ا...  passenger_car  ...   \n",
              "15430  کد آگهی :2082 آپشن :فول اکستریم 6ایربگ -برای ه...            suv  ...   \n",
              "15531                 بسیار سالم و بدون هیچ گونه خط و خش      crossover  ...   \n",
              "15537  تنظیم ارتفاع دوربین عقب گرمکن کرال صندلی برقی ...            suv  ...   \n",
              "15554  7 رادار با هوک تک برگ سند فوق العاده تمیز و سا...      crossover  ...   \n",
              "\n",
              "       ۱۰۰   ۱۱   ۱۲  ۱۴۰۴   ۲۰  ۲۰۵  ۲۰۷   ۷۰   ۸۰   ۹۰  \n",
              "42     0.0  0.0  0.0   0.0  0.0  0.0  0.0  0.0  0.0  0.0  \n",
              "48     0.0  0.0  0.0   0.0  0.0  0.0  0.0  0.0  0.0  0.0  \n",
              "55     0.0  0.0  0.0   0.0  0.0  0.0  0.0  0.0  0.0  0.0  \n",
              "68     0.0  0.0  0.0   0.0  0.0  0.0  0.0  0.0  0.0  0.0  \n",
              "106    0.0  0.0  0.0   0.0  0.0  0.0  0.0  0.0  0.0  0.0  \n",
              "...    ...  ...  ...   ...  ...  ...  ...  ...  ...  ...  \n",
              "15423  0.0  0.0  0.0   0.0  0.0  0.0  0.0  0.0  0.0  0.0  \n",
              "15430  0.0  0.0  0.0   0.0  0.0  0.0  0.0  0.0  0.0  0.0  \n",
              "15531  0.0  0.0  0.0   0.0  0.0  0.0  0.0  0.0  0.0  0.0  \n",
              "15537  0.0  0.0  0.0   0.0  0.0  0.0  0.0  0.0  0.0  0.0  \n",
              "15554  0.0  0.0  0.0   0.0  0.0  0.0  0.0  0.0  0.0  0.0  \n",
              "\n",
              "[550 rows x 350 columns]"
            ]
          },
          "execution_count": 590,
          "metadata": {},
          "output_type": "execute_result"
        }
      ],
      "source": [
        "df_train[df_train['price']>6000000000]"
      ]
    },
    {
      "cell_type": "code",
      "execution_count": 591,
      "metadata": {
        "id": "IFec82xlIQOo"
      },
      "outputs": [],
      "source": [
        "def dropOutLierPrice(df):\n",
        "    df.drop(index=df[df['price']<40000000].index,inplace=True)\n",
        "    df.drop(index=df[df['price']>7800000000].index,inplace=True)\n",
        "    return df"
      ]
    },
    {
      "cell_type": "code",
      "execution_count": 592,
      "metadata": {
        "id": "XdZP6kOLIQOp"
      },
      "outputs": [],
      "source": [
        "df_train = fillCars(df_train)\n",
        "df_test = fillCars(df_test)"
      ]
    },
    {
      "cell_type": "code",
      "execution_count": 593,
      "metadata": {
        "colab": {
          "base_uri": "https://localhost:8080/"
        },
        "id": "ppT1jgKAIQOp",
        "outputId": "81adfcf2-44bb-4126-b5d3-82834d0a3360"
      },
      "outputs": [
        {
          "name": "stderr",
          "output_type": "stream",
          "text": [
            "/var/folders/4x/xd241drd2jld1w2dp_1m4m280000gn/T/ipykernel_16430/1795673463.py:2: FutureWarning: A value is trying to be set on a copy of a DataFrame or Series through chained assignment using an inplace method.\n",
            "The behavior will change in pandas 3.0. This inplace method will never work because the intermediate object on which we are setting values always behaves as a copy.\n",
            "\n",
            "For example, when doing 'df[col].method(value, inplace=True)', try using 'df.method({col: value}, inplace=True)' or df[col] = df[col].method(value) instead, to perform the operation inplace on the original object.\n",
            "\n",
            "\n",
            "  df['fuel'].fillna(df['fuel'].median(),inplace=True)\n",
            "/var/folders/4x/xd241drd2jld1w2dp_1m4m280000gn/T/ipykernel_16430/1795673463.py:3: FutureWarning: A value is trying to be set on a copy of a DataFrame or Series through chained assignment using an inplace method.\n",
            "The behavior will change in pandas 3.0. This inplace method will never work because the intermediate object on which we are setting values always behaves as a copy.\n",
            "\n",
            "For example, when doing 'df[col].method(value, inplace=True)', try using 'df.method({col: value}, inplace=True)' or df[col] = df[col].method(value) instead, to perform the operation inplace on the original object.\n",
            "\n",
            "\n",
            "  df['volume'].fillna(df['volume'].median(),inplace=True)\n",
            "/var/folders/4x/xd241drd2jld1w2dp_1m4m280000gn/T/ipykernel_16430/1795673463.py:4: FutureWarning: A value is trying to be set on a copy of a DataFrame or Series through chained assignment using an inplace method.\n",
            "The behavior will change in pandas 3.0. This inplace method will never work because the intermediate object on which we are setting values always behaves as a copy.\n",
            "\n",
            "For example, when doing 'df[col].method(value, inplace=True)', try using 'df.method({col: value}, inplace=True)' or df[col] = df[col].method(value) instead, to perform the operation inplace on the original object.\n",
            "\n",
            "\n",
            "  df['acceleration'].fillna(df['acceleration'].median(),inplace=True)\n",
            "/var/folders/4x/xd241drd2jld1w2dp_1m4m280000gn/T/ipykernel_16430/1795673463.py:5: FutureWarning: A value is trying to be set on a copy of a DataFrame or Series through chained assignment using an inplace method.\n",
            "The behavior will change in pandas 3.0. This inplace method will never work because the intermediate object on which we are setting values always behaves as a copy.\n",
            "\n",
            "For example, when doing 'df[col].method(value, inplace=True)', try using 'df.method({col: value}, inplace=True)' or df[col] = df[col].method(value) instead, to perform the operation inplace on the original object.\n",
            "\n",
            "\n",
            "  df['engine'].fillna('null',inplace=True)\n",
            "/var/folders/4x/xd241drd2jld1w2dp_1m4m280000gn/T/ipykernel_16430/1795673463.py:2: FutureWarning: A value is trying to be set on a copy of a DataFrame or Series through chained assignment using an inplace method.\n",
            "The behavior will change in pandas 3.0. This inplace method will never work because the intermediate object on which we are setting values always behaves as a copy.\n",
            "\n",
            "For example, when doing 'df[col].method(value, inplace=True)', try using 'df.method({col: value}, inplace=True)' or df[col] = df[col].method(value) instead, to perform the operation inplace on the original object.\n",
            "\n",
            "\n",
            "  df['fuel'].fillna(df['fuel'].median(),inplace=True)\n",
            "/var/folders/4x/xd241drd2jld1w2dp_1m4m280000gn/T/ipykernel_16430/1795673463.py:3: FutureWarning: A value is trying to be set on a copy of a DataFrame or Series through chained assignment using an inplace method.\n",
            "The behavior will change in pandas 3.0. This inplace method will never work because the intermediate object on which we are setting values always behaves as a copy.\n",
            "\n",
            "For example, when doing 'df[col].method(value, inplace=True)', try using 'df.method({col: value}, inplace=True)' or df[col] = df[col].method(value) instead, to perform the operation inplace on the original object.\n",
            "\n",
            "\n",
            "  df['volume'].fillna(df['volume'].median(),inplace=True)\n",
            "/var/folders/4x/xd241drd2jld1w2dp_1m4m280000gn/T/ipykernel_16430/1795673463.py:4: FutureWarning: A value is trying to be set on a copy of a DataFrame or Series through chained assignment using an inplace method.\n",
            "The behavior will change in pandas 3.0. This inplace method will never work because the intermediate object on which we are setting values always behaves as a copy.\n",
            "\n",
            "For example, when doing 'df[col].method(value, inplace=True)', try using 'df.method({col: value}, inplace=True)' or df[col] = df[col].method(value) instead, to perform the operation inplace on the original object.\n",
            "\n",
            "\n",
            "  df['acceleration'].fillna(df['acceleration'].median(),inplace=True)\n",
            "/var/folders/4x/xd241drd2jld1w2dp_1m4m280000gn/T/ipykernel_16430/1795673463.py:5: FutureWarning: A value is trying to be set on a copy of a DataFrame or Series through chained assignment using an inplace method.\n",
            "The behavior will change in pandas 3.0. This inplace method will never work because the intermediate object on which we are setting values always behaves as a copy.\n",
            "\n",
            "For example, when doing 'df[col].method(value, inplace=True)', try using 'df.method({col: value}, inplace=True)' or df[col] = df[col].method(value) instead, to perform the operation inplace on the original object.\n",
            "\n",
            "\n",
            "  df['engine'].fillna('null',inplace=True)\n"
          ]
        }
      ],
      "source": [
        "\n",
        "df_train = fillNullWithMean(df_train)\n",
        "df_test = fillNullWithMean(df_test)\n"
      ]
    },
    {
      "cell_type": "code",
      "execution_count": 594,
      "metadata": {
        "id": "muKKlhNRIQOp"
      },
      "outputs": [],
      "source": [
        "df_train = dropOutLierPrice(df_train)"
      ]
    },
    {
      "cell_type": "code",
      "execution_count": 595,
      "metadata": {
        "id": "gYAkd4_WIQOp"
      },
      "outputs": [],
      "source": [
        "from scipy import stats\n",
        "\n",
        "def remove_outliers_by_zscore(df, column_name, threshold=3):\n",
        "\n",
        "    df['zscore'] = df.groupby('title')[column_name].transform(lambda x: stats.zscore(x, nan_policy='omit'))\n",
        "    df_clean = df[(df['zscore'].abs() < threshold)]\n",
        "    df_clean = df_clean.drop(columns=['zscore'])\n",
        "\n",
        "    return df_clean\n",
        "\n",
        "df_train = remove_outliers_by_zscore(df_train, 'price', threshold=2.6)\n"
      ]
    },
    {
      "cell_type": "markdown",
      "metadata": {
        "id": "phpcdXEFIQOp"
      },
      "source": [
        "## Train Model"
      ]
    },
    {
      "cell_type": "code",
      "execution_count": 596,
      "metadata": {
        "colab": {
          "base_uri": "https://localhost:8080/"
        },
        "id": "8fw5o3t4IQOp",
        "outputId": "51c22f29-ea8b-4125-e9a7-ee22dc3a8774"
      },
      "outputs": [
        {
          "data": {
            "text/plain": [
              "Index(['title', 'year', 'mileage', 'transmission', 'fuel', 'body_color',\n",
              "       'inside_color', 'body_status', 'description', 'body_type',\n",
              "       ...\n",
              "       '۱۰۰', '۱۱', '۱۲', '۱۴۰۴', '۲۰', '۲۰۵', '۲۰۷', '۷۰', '۸۰', '۹۰'],\n",
              "      dtype='object', length=350)"
            ]
          },
          "execution_count": 596,
          "metadata": {},
          "output_type": "execute_result"
        }
      ],
      "source": [
        "df_train.columns"
      ]
    },
    {
      "cell_type": "code",
      "execution_count": 608,
      "metadata": {
        "colab": {
          "base_uri": "https://localhost:8080/"
        },
        "id": "ckwyOwmQIQOp",
        "outputId": "a99331f4-81d0-40d7-80e7-af7397b1531c"
      },
      "outputs": [
        {
          "name": "stdout",
          "output_type": "stream",
          "text": [
            "Fitting 8 folds for each of 1 candidates, totalling 8 fits\n",
            "[CV] END model__bootstrap=True, model__criterion=friedman_mse, model__max_depth=None, model__min_samples_leaf=1, model__min_samples_split=2, model__n_estimators=100, model__random_state=42, model__warm_start=True, preprocessor__num__with_mean=True; total time=  25.5s\n",
            "[CV] END model__bootstrap=True, model__criterion=friedman_mse, model__max_depth=None, model__min_samples_leaf=1, model__min_samples_split=2, model__n_estimators=100, model__random_state=42, model__warm_start=True, preprocessor__num__with_mean=True; total time=  25.5s\n",
            "[CV] END model__bootstrap=True, model__criterion=friedman_mse, model__max_depth=None, model__min_samples_leaf=1, model__min_samples_split=2, model__n_estimators=100, model__random_state=42, model__warm_start=True, preprocessor__num__with_mean=True; total time=  25.8s\n",
            "[CV] END model__bootstrap=True, model__criterion=friedman_mse, model__max_depth=None, model__min_samples_leaf=1, model__min_samples_split=2, model__n_estimators=100, model__random_state=42, model__warm_start=True, preprocessor__num__with_mean=True; total time=  25.9s\n",
            "[CV] END model__bootstrap=True, model__criterion=friedman_mse, model__max_depth=None, model__min_samples_leaf=1, model__min_samples_split=2, model__n_estimators=100, model__random_state=42, model__warm_start=True, preprocessor__num__with_mean=True; total time=  25.7s\n",
            "[CV] END model__bootstrap=True, model__criterion=friedman_mse, model__max_depth=None, model__min_samples_leaf=1, model__min_samples_split=2, model__n_estimators=100, model__random_state=42, model__warm_start=True, preprocessor__num__with_mean=True; total time=  25.7s\n",
            "[CV] END model__bootstrap=True, model__criterion=friedman_mse, model__max_depth=None, model__min_samples_leaf=1, model__min_samples_split=2, model__n_estimators=100, model__random_state=42, model__warm_start=True, preprocessor__num__with_mean=True; total time=  25.6s\n",
            "[CV] END model__bootstrap=True, model__criterion=friedman_mse, model__max_depth=None, model__min_samples_leaf=1, model__min_samples_split=2, model__n_estimators=100, model__random_state=42, model__warm_start=True, preprocessor__num__with_mean=True; total time=  26.1s\n",
            "Best parameters found:  {'model__bootstrap': True, 'model__criterion': 'friedman_mse', 'model__max_depth': None, 'model__min_samples_leaf': 1, 'model__min_samples_split': 2, 'model__n_estimators': 100, 'model__random_state': 42, 'model__warm_start': True, 'preprocessor__num__with_mean': True}\n"
          ]
        }
      ],
      "source": [
        "X_train = df_train.drop(columns=['price'])\n",
        "y_train = df_train['price']\n",
        "X_test = df_test\n",
        "\n",
        "categorical_cols = ['title', 'transmission', 'body_color', 'inside_color', 'body_status', 'body_type', 'engine']\n",
        "numerical_cols = ['year', 'mileage', 'volume', 'acceleration','fuel']\n",
        "\n",
        "categorical_transformer = OneHotEncoder(handle_unknown='ignore')\n",
        "\n",
        "numerical_transformer = StandardScaler()\n",
        "\n",
        "preprocessor = ColumnTransformer(\n",
        "    transformers=[\n",
        "        ('num', numerical_transformer, numerical_cols),\n",
        "        ('cat', categorical_transformer, categorical_cols)\n",
        "    ])\n",
        "\n",
        "model = RandomForestRegressor()\n",
        "\n",
        "pipeline = Pipeline(steps=[('preprocessor', preprocessor), ('model', model)])\n",
        "\n",
        "# Split the data into training and test sets\n",
        "# X_train, X_test, y_train, y_test = train_test_split(X, y, test_size=0.2, random_state=0)\n",
        "\n",
        "param_grid = {\n",
        "    'model__n_estimators': [100], \n",
        "    'model__criterion': ['friedman_mse'],  \n",
        "    'model__max_depth': [None],     \n",
        "    'model__min_samples_split': [2],     \n",
        "    'model__min_samples_leaf': [1],  \n",
        "    'model__bootstrap': [True],    \n",
        "    'model__warm_start': [True],     \n",
        "    'model__random_state': [42],      \n",
        "\n",
        "    'preprocessor__num__with_mean': [True], \n",
        "}\n",
        "\n",
        "grid_search = GridSearchCV(estimator=pipeline, param_grid=param_grid, cv=8, n_jobs=-1, verbose=2)\n",
        "\n",
        "grid_search.fit(X_train, y_train)\n",
        "\n",
        "print(\"Best parameters found: \", grid_search.best_params_)\n",
        "\n",
        "best_model = grid_search.best_estimator_\n",
        "y_pred = best_model.predict(X_test)\n"
      ]
    },
    {
      "cell_type": "code",
      "execution_count": 610,
      "metadata": {},
      "outputs": [
        {
          "data": {
            "text/plain": [
              "{'mean_fit_time': array([25.58544976]),\n",
              " 'std_fit_time': array([0.202314]),\n",
              " 'mean_score_time': array([0.15616718]),\n",
              " 'std_score_time': array([0.03028871]),\n",
              " 'param_model__bootstrap': masked_array(data=[True],\n",
              "              mask=[False],\n",
              "        fill_value=True),\n",
              " 'param_model__criterion': masked_array(data=['friedman_mse'],\n",
              "              mask=[False],\n",
              "        fill_value='?',\n",
              "             dtype=object),\n",
              " 'param_model__max_depth': masked_array(data=[nan],\n",
              "              mask=[False],\n",
              "        fill_value=1e+20),\n",
              " 'param_model__min_samples_leaf': masked_array(data=[1],\n",
              "              mask=[False],\n",
              "        fill_value=999999),\n",
              " 'param_model__min_samples_split': masked_array(data=[2],\n",
              "              mask=[False],\n",
              "        fill_value=999999),\n",
              " 'param_model__n_estimators': masked_array(data=[100],\n",
              "              mask=[False],\n",
              "        fill_value=999999),\n",
              " 'param_model__random_state': masked_array(data=[42],\n",
              "              mask=[False],\n",
              "        fill_value=999999),\n",
              " 'param_model__warm_start': masked_array(data=[True],\n",
              "              mask=[False],\n",
              "        fill_value=True),\n",
              " 'param_preprocessor__num__with_mean': masked_array(data=[True],\n",
              "              mask=[False],\n",
              "        fill_value=True),\n",
              " 'params': [{'model__bootstrap': True,\n",
              "   'model__criterion': 'friedman_mse',\n",
              "   'model__max_depth': None,\n",
              "   'model__min_samples_leaf': 1,\n",
              "   'model__min_samples_split': 2,\n",
              "   'model__n_estimators': 100,\n",
              "   'model__random_state': 42,\n",
              "   'model__warm_start': True,\n",
              "   'preprocessor__num__with_mean': True}],\n",
              " 'split0_test_score': array([0.97331221]),\n",
              " 'split1_test_score': array([0.97651521]),\n",
              " 'split2_test_score': array([0.96548629]),\n",
              " 'split3_test_score': array([0.97611919]),\n",
              " 'split4_test_score': array([0.97384062]),\n",
              " 'split5_test_score': array([0.97718459]),\n",
              " 'split6_test_score': array([0.97599235]),\n",
              " 'split7_test_score': array([0.96687304]),\n",
              " 'mean_test_score': array([0.97316544]),\n",
              " 'std_test_score': array([0.00422983]),\n",
              " 'rank_test_score': array([1], dtype=int32)}"
            ]
          },
          "execution_count": 610,
          "metadata": {},
          "output_type": "execute_result"
        }
      ],
      "source": [
        "grid_search.cv_results_"
      ]
    },
    {
      "cell_type": "code",
      "execution_count": 352,
      "metadata": {
        "id": "IMIBk2jzIQOp",
        "outputId": "291937c1-0c58-4fa0-d407-ac453284dce5"
      },
      "outputs": [
        {
          "data": {
            "text/plain": [
              "(3629,)"
            ]
          },
          "execution_count": 352,
          "metadata": {},
          "output_type": "execute_result"
        }
      ],
      "source": [
        "y_pred.shape"
      ]
    },
    {
      "cell_type": "code",
      "execution_count": 609,
      "metadata": {
        "id": "zED7-uApIQOp"
      },
      "outputs": [],
      "source": [
        "pd.DataFrame({'price' : y_pred}).to_csv('sheikh.csv')"
      ]
    },
    {
      "cell_type": "code",
      "execution_count": null,
      "metadata": {
        "id": "0PIKIsEPIQOp"
      },
      "outputs": [],
      "source": []
    },
    {
      "cell_type": "code",
      "execution_count": null,
      "metadata": {
        "id": "iCLQcOWXIQOp",
        "outputId": "60998028-c8af-4542-f8a1-d6a0f4a1105b"
      },
      "outputs": [
        {
          "data": {
            "text/plain": [
              "Index(['title', 'year', 'mileage', 'transmission', 'fuel', 'body_color',\n",
              "       'inside_color', 'body_status', 'description', 'body_type', 'volume',\n",
              "       'engine', 'acceleration', 'null', 'انجام شده', 'بدنه', 'بدون',\n",
              "       'بدون خط', 'برقی', 'برگ', 'بسیار', 'به شرط', 'تازه', 'تخفیف', 'تسمه',\n",
              "       'تعویض', 'تعویض شده', 'تمامی', 'تمیز', 'جلو', 'حد', 'خش', 'خط', 'خط خش',\n",
              "       'دارای', 'در حد', 'درب', 'دودی', 'دوربین', 'روغن', 'روکش', 'روکش صندلی',\n",
              "       'سالم', 'سرویس', 'سرویس ها', 'سمت', 'سند', 'شاسی', 'شیشه', 'صفر',\n",
              "       'صندلی', 'عالی', 'فابریک', 'فنی سالم', 'فول', 'مانیتور', 'نو', 'واقعی',\n",
              "       'پلمپ', 'کاملا سالم', 'گارانتی', 'گیربکس'],\n",
              "      dtype='object')"
            ]
          },
          "execution_count": 597,
          "metadata": {},
          "output_type": "execute_result"
        }
      ],
      "source": [
        "X_train.columns"
      ]
    },
    {
      "cell_type": "code",
      "execution_count": 550,
      "metadata": {
        "id": "YWbnbk-zIQOq",
        "outputId": "5602ef54-b949-4b53-8480-34bf99b945fe"
      },
      "outputs": [
        {
          "name": "stdout",
          "output_type": "stream",
          "text": [
            "Fitting 1 folds for each of 1 candidates, totalling 1 fits\n",
            "[CV] END model__learning_rate=0.1, preprocessor__num__with_mean=True; total time=   5.6s\n",
            "Best parameters found:  {'model__learning_rate': 0.1, 'preprocessor__num__with_mean': True}\n"
          ]
        }
      ],
      "source": [
        "from sklearn.ensemble import HistGradientBoostingRegressor\n",
        "\n",
        "X_train = df_train.drop(columns=['price'])\n",
        "y_train = df_train['price']\n",
        "X_test = df_test\n",
        "\n",
        "categorical_cols = ['title', 'transmission', 'body_color', 'inside_color', 'body_status', 'body_type', 'engine']\n",
        "numerical_cols = ['year', 'mileage', 'volume', 'acceleration','fuel']\n",
        "\n",
        "categorical_transformer = OneHotEncoder(handle_unknown='ignore',sparse_output=False)\n",
        "\n",
        "numerical_transformer = StandardScaler()\n",
        "\n",
        "preprocessor = ColumnTransformer(\n",
        "    transformers=[\n",
        "        ('num', numerical_transformer, numerical_cols),\n",
        "        ('cat', categorical_transformer, categorical_cols)\n",
        "    ])\n",
        "\n",
        "model = HistGradientBoostingRegressor()\n",
        "\n",
        "pipeline = Pipeline(steps=[('preprocessor', preprocessor), ('model', model)])\n",
        "\n",
        "# Split the data into training and test sets\n",
        "# X_train, X_test, y_train, y_test = train_test_split(X, y, test_size=0.2, random_state=0)\n",
        "\n",
        "param_grid = {\n",
        "    'model__learning_rate': [0.1],  \n",
        "    'model__max_iter': [600], \n",
        "    'model__max_depth': [None], \n",
        "    'model__min_samples_leaf': [1],  \n",
        "    'model__max_bins': [255],  \n",
        "    'model__loss': [\"squared_error\"],\n",
        "    'model__early_stopping': [False],\n",
        "    'model__l2_regularization': [0.3],\n",
        "    'preprocessor__num__with_mean': [True], \n",
        "}\n",
        "\n",
        "grid_search = GridSearchCV(estimator=pipeline, param_grid=param_grid, cv=[(slice(None), slice(None))], n_jobs=-1, verbose=2)\n",
        "\n",
        "grid_search.fit(X_train, y_train)\n",
        "\n",
        "print(\"Best parameters found: \", grid_search.best_params_)\n",
        "\n",
        "best_model = grid_search.best_estimator_\n",
        "y_pred = best_model.predict(X_test)\n"
      ]
    },
    {
      "cell_type": "code",
      "execution_count": 238,
      "metadata": {
        "id": "0yHCkbdjIQOq",
        "outputId": "6b1986c8-770b-4e0e-bddc-82e63f9e6cdc"
      },
      "outputs": [
        {
          "data": {
            "text/plain": [
              "(3629,)"
            ]
          },
          "execution_count": 238,
          "metadata": {},
          "output_type": "execute_result"
        }
      ],
      "source": [
        "y_pred.shape"
      ]
    },
    {
      "cell_type": "code",
      "execution_count": 551,
      "metadata": {
        "id": "5wUKDY24IQOq"
      },
      "outputs": [],
      "source": [
        "pd.DataFrame({'price' : y_pred}).to_csv('sheikh.csv')"
      ]
    },
    {
      "cell_type": "code",
      "execution_count": null,
      "metadata": {
        "id": "XrAwPJ7XIQOq"
      },
      "outputs": [],
      "source": []
    },
    {
      "cell_type": "code",
      "execution_count": null,
      "metadata": {
        "id": "GRuXlqEYIQOq"
      },
      "outputs": [],
      "source": []
    },
    {
      "cell_type": "code",
      "execution_count": 263,
      "metadata": {
        "id": "Q5Ma62dHIQOq",
        "outputId": "29c8c796-94d4-4b57-dfac-4f5bfeb24301"
      },
      "outputs": [
        {
          "name": "stdout",
          "output_type": "stream",
          "text": [
            "Epoch 1/200\n"
          ]
        },
        {
          "name": "stderr",
          "output_type": "stream",
          "text": [
            "/Users/smsag/Library/Python/3.9/lib/python/site-packages/keras/src/layers/core/input_layer.py:26: UserWarning: Argument `input_shape` is deprecated. Use `shape` instead.\n",
            "  warnings.warn(\n"
          ]
        },
        {
          "name": "stdout",
          "output_type": "stream",
          "text": [
            "\u001b[1m847/847\u001b[0m \u001b[32m━━━━━━━━━━━━━━━━━━━━\u001b[0m\u001b[37m\u001b[0m \u001b[1m2s\u001b[0m 1ms/step - loss: 2719055696728424448.0000 - mae: 1083662848.0000 - val_loss: 1263512445712859136.0000 - val_mae: 673063744.0000\n",
            "Epoch 2/200\n",
            "\u001b[1m847/847\u001b[0m \u001b[32m━━━━━━━━━━━━━━━━━━━━\u001b[0m\u001b[37m\u001b[0m \u001b[1m1s\u001b[0m 1ms/step - loss: 1065539329817837568.0000 - mae: 673730304.0000 - val_loss: 868367483021557760.0000 - val_mae: 591945984.0000\n",
            "Epoch 3/200\n",
            "\u001b[1m847/847\u001b[0m \u001b[32m━━━━━━━━━━━━━━━━━━━━\u001b[0m\u001b[37m\u001b[0m \u001b[1m1s\u001b[0m 1ms/step - loss: 783867265647902720.0000 - mae: 572503552.0000 - val_loss: 729023213337575424.0000 - val_mae: 518283584.0000\n",
            "Epoch 4/200\n",
            "\u001b[1m847/847\u001b[0m \u001b[32m━━━━━━━━━━━━━━━━━━━━\u001b[0m\u001b[37m\u001b[0m \u001b[1m1s\u001b[0m 1ms/step - loss: 639329865106980864.0000 - mae: 502162112.0000 - val_loss: 657144358658637824.0000 - val_mae: 483361472.0000\n",
            "Epoch 5/200\n",
            "\u001b[1m847/847\u001b[0m \u001b[32m━━━━━━━━━━━━━━━━━━━━\u001b[0m\u001b[37m\u001b[0m \u001b[1m1s\u001b[0m 1ms/step - loss: 576625266730729472.0000 - mae: 468507648.0000 - val_loss: 603114700867108864.0000 - val_mae: 460320288.0000\n",
            "Epoch 6/200\n",
            "\u001b[1m847/847\u001b[0m \u001b[32m━━━━━━━━━━━━━━━━━━━━\u001b[0m\u001b[37m\u001b[0m \u001b[1m1s\u001b[0m 1ms/step - loss: 538251829885009920.0000 - mae: 444824704.0000 - val_loss: 555454135978164224.0000 - val_mae: 439588800.0000\n",
            "Epoch 7/200\n",
            "\u001b[1m847/847\u001b[0m \u001b[32m━━━━━━━━━━━━━━━━━━━━\u001b[0m\u001b[37m\u001b[0m \u001b[1m1s\u001b[0m 1ms/step - loss: 456339691084447744.0000 - mae: 411133312.0000 - val_loss: 510794653717495808.0000 - val_mae: 412865472.0000\n",
            "Epoch 8/200\n",
            "\u001b[1m847/847\u001b[0m \u001b[32m━━━━━━━━━━━━━━━━━━━━\u001b[0m\u001b[37m\u001b[0m \u001b[1m1s\u001b[0m 1ms/step - loss: 427821589275344896.0000 - mae: 387637312.0000 - val_loss: 467179398265569280.0000 - val_mae: 387340992.0000\n",
            "Epoch 9/200\n",
            "\u001b[1m847/847\u001b[0m \u001b[32m━━━━━━━━━━━━━━━━━━━━\u001b[0m\u001b[37m\u001b[0m \u001b[1m1s\u001b[0m 1ms/step - loss: 406666023484260352.0000 - mae: 369283232.0000 - val_loss: 426676104317632512.0000 - val_mae: 361314240.0000\n",
            "Epoch 10/200\n",
            "\u001b[1m847/847\u001b[0m \u001b[32m━━━━━━━━━━━━━━━━━━━━\u001b[0m\u001b[37m\u001b[0m \u001b[1m1s\u001b[0m 1ms/step - loss: 360980490716446720.0000 - mae: 342703072.0000 - val_loss: 387703433634775040.0000 - val_mae: 342639296.0000\n",
            "Epoch 11/200\n",
            "\u001b[1m847/847\u001b[0m \u001b[32m━━━━━━━━━━━━━━━━━━━━\u001b[0m\u001b[37m\u001b[0m \u001b[1m1s\u001b[0m 1ms/step - loss: 342333838661255168.0000 - mae: 328821344.0000 - val_loss: 350804098284519424.0000 - val_mae: 310920928.0000\n",
            "Epoch 12/200\n",
            "\u001b[1m847/847\u001b[0m \u001b[32m━━━━━━━━━━━━━━━━━━━━\u001b[0m\u001b[37m\u001b[0m \u001b[1m1s\u001b[0m 1ms/step - loss: 285868659534987264.0000 - mae: 293839936.0000 - val_loss: 314131021811417088.0000 - val_mae: 290728320.0000\n",
            "Epoch 13/200\n",
            "\u001b[1m847/847\u001b[0m \u001b[32m━━━━━━━━━━━━━━━━━━━━\u001b[0m\u001b[37m\u001b[0m \u001b[1m1s\u001b[0m 1ms/step - loss: 274386081649000448.0000 - mae: 276431680.0000 - val_loss: 284715203117973504.0000 - val_mae: 275492576.0000\n",
            "Epoch 14/200\n",
            "\u001b[1m847/847\u001b[0m \u001b[32m━━━━━━━━━━━━━━━━━━━━\u001b[0m\u001b[37m\u001b[0m \u001b[1m1s\u001b[0m 1ms/step - loss: 242536184729829376.0000 - mae: 253025024.0000 - val_loss: 258693164502614016.0000 - val_mae: 247560560.0000\n",
            "Epoch 15/200\n",
            "\u001b[1m847/847\u001b[0m \u001b[32m━━━━━━━━━━━━━━━━━━━━\u001b[0m\u001b[37m\u001b[0m \u001b[1m1s\u001b[0m 1ms/step - loss: 217562581991161856.0000 - mae: 235985920.0000 - val_loss: 233951610257014784.0000 - val_mae: 238482864.0000\n",
            "Epoch 16/200\n",
            "\u001b[1m847/847\u001b[0m \u001b[32m━━━━━━━━━━━━━━━━━━━━\u001b[0m\u001b[37m\u001b[0m \u001b[1m1s\u001b[0m 1ms/step - loss: 184185618039832576.0000 - mae: 214711616.0000 - val_loss: 215758506748280832.0000 - val_mae: 215206096.0000\n",
            "Epoch 17/200\n",
            "\u001b[1m847/847\u001b[0m \u001b[32m━━━━━━━━━━━━━━━━━━━━\u001b[0m\u001b[37m\u001b[0m \u001b[1m1s\u001b[0m 1ms/step - loss: 194088369515397120.0000 - mae: 211540672.0000 - val_loss: 195985405030432768.0000 - val_mae: 204498064.0000\n",
            "Epoch 18/200\n",
            "\u001b[1m847/847\u001b[0m \u001b[32m━━━━━━━━━━━━━━━━━━━━\u001b[0m\u001b[37m\u001b[0m \u001b[1m1s\u001b[0m 1ms/step - loss: 157769645024083968.0000 - mae: 189058544.0000 - val_loss: 179112162151628800.0000 - val_mae: 198316336.0000\n",
            "Epoch 19/200\n",
            "\u001b[1m847/847\u001b[0m \u001b[32m━━━━━━━━━━━━━━━━━━━━\u001b[0m\u001b[37m\u001b[0m \u001b[1m1s\u001b[0m 1ms/step - loss: 125463467959255040.0000 - mae: 173124192.0000 - val_loss: 163845752437604352.0000 - val_mae: 183471456.0000\n",
            "Epoch 20/200\n",
            "\u001b[1m847/847\u001b[0m \u001b[32m━━━━━━━━━━━━━━━━━━━━\u001b[0m\u001b[37m\u001b[0m \u001b[1m1s\u001b[0m 1ms/step - loss: 124063411699974144.0000 - mae: 165361040.0000 - val_loss: 151161064745074688.0000 - val_mae: 176126624.0000\n",
            "Epoch 21/200\n",
            "\u001b[1m847/847\u001b[0m \u001b[32m━━━━━━━━━━━━━━━━━━━━\u001b[0m\u001b[37m\u001b[0m \u001b[1m1s\u001b[0m 1ms/step - loss: 110472056411258880.0000 - mae: 156224976.0000 - val_loss: 141402426602160128.0000 - val_mae: 171684800.0000\n",
            "Epoch 22/200\n",
            "\u001b[1m847/847\u001b[0m \u001b[32m━━━━━━━━━━━━━━━━━━━━\u001b[0m\u001b[37m\u001b[0m \u001b[1m1s\u001b[0m 1ms/step - loss: 102543057156571136.0000 - mae: 150228512.0000 - val_loss: 131523933101883392.0000 - val_mae: 164353376.0000\n",
            "Epoch 23/200\n",
            "\u001b[1m847/847\u001b[0m \u001b[32m━━━━━━━━━━━━━━━━━━━━\u001b[0m\u001b[37m\u001b[0m \u001b[1m1s\u001b[0m 1ms/step - loss: 94503359414796288.0000 - mae: 141978496.0000 - val_loss: 122156806997803008.0000 - val_mae: 154136960.0000\n",
            "Epoch 24/200\n",
            "\u001b[1m847/847\u001b[0m \u001b[32m━━━━━━━━━━━━━━━━━━━━\u001b[0m\u001b[37m\u001b[0m \u001b[1m1s\u001b[0m 1ms/step - loss: 85988810088775680.0000 - mae: 135050400.0000 - val_loss: 113447180257198080.0000 - val_mae: 147235920.0000\n",
            "Epoch 25/200\n",
            "\u001b[1m847/847\u001b[0m \u001b[32m━━━━━━━━━━━━━━━━━━━━\u001b[0m\u001b[37m\u001b[0m \u001b[1m1s\u001b[0m 1ms/step - loss: 80645716153729024.0000 - mae: 130992656.0000 - val_loss: 108418039841554432.0000 - val_mae: 144912208.0000\n",
            "Epoch 26/200\n",
            "\u001b[1m847/847\u001b[0m \u001b[32m━━━━━━━━━━━━━━━━━━━━\u001b[0m\u001b[37m\u001b[0m \u001b[1m1s\u001b[0m 1ms/step - loss: 80664742858850304.0000 - mae: 130044160.0000 - val_loss: 101165532295725056.0000 - val_mae: 142494288.0000\n",
            "Epoch 27/200\n",
            "\u001b[1m847/847\u001b[0m \u001b[32m━━━━━━━━━━━━━━━━━━━━\u001b[0m\u001b[37m\u001b[0m \u001b[1m1s\u001b[0m 1ms/step - loss: 73780219521007616.0000 - mae: 123629256.0000 - val_loss: 98062555863318528.0000 - val_mae: 134617392.0000\n",
            "Epoch 28/200\n",
            "\u001b[1m847/847\u001b[0m \u001b[32m━━━━━━━━━━━━━━━━━━━━\u001b[0m\u001b[37m\u001b[0m \u001b[1m1s\u001b[0m 1ms/step - loss: 68786486815752192.0000 - mae: 120367616.0000 - val_loss: 91490568705671168.0000 - val_mae: 139639712.0000\n",
            "Epoch 29/200\n",
            "\u001b[1m847/847\u001b[0m \u001b[32m━━━━━━━━━━━━━━━━━━━━\u001b[0m\u001b[37m\u001b[0m \u001b[1m1s\u001b[0m 1ms/step - loss: 60129898626285568.0000 - mae: 114130264.0000 - val_loss: 85690722178564096.0000 - val_mae: 130902120.0000\n",
            "Epoch 30/200\n",
            "\u001b[1m847/847\u001b[0m \u001b[32m━━━━━━━━━━━━━━━━━━━━\u001b[0m\u001b[37m\u001b[0m \u001b[1m1s\u001b[0m 1ms/step - loss: 55579814567870464.0000 - mae: 109631120.0000 - val_loss: 84250576694542336.0000 - val_mae: 129014328.0000\n",
            "Epoch 31/200\n",
            "\u001b[1m847/847\u001b[0m \u001b[32m━━━━━━━━━━━━━━━━━━━━\u001b[0m\u001b[37m\u001b[0m \u001b[1m1s\u001b[0m 1ms/step - loss: 54289567737446400.0000 - mae: 107114008.0000 - val_loss: 80321411763142656.0000 - val_mae: 131276048.0000\n",
            "Epoch 32/200\n",
            "\u001b[1m847/847\u001b[0m \u001b[32m━━━━━━━━━━━━━━━━━━━━\u001b[0m\u001b[37m\u001b[0m \u001b[1m1s\u001b[0m 1ms/step - loss: 49719645225091072.0000 - mae: 100740464.0000 - val_loss: 75303489802076160.0000 - val_mae: 123111528.0000\n",
            "Epoch 33/200\n",
            "\u001b[1m847/847\u001b[0m \u001b[32m━━━━━━━━━━━━━━━━━━━━\u001b[0m\u001b[37m\u001b[0m \u001b[1m1s\u001b[0m 1ms/step - loss: 45189640138784768.0000 - mae: 98110784.0000 - val_loss: 70663937279918080.0000 - val_mae: 121378016.0000\n",
            "Epoch 34/200\n",
            "\u001b[1m847/847\u001b[0m \u001b[32m━━━━━━━━━━━━━━━━━━━━\u001b[0m\u001b[37m\u001b[0m \u001b[1m1s\u001b[0m 1ms/step - loss: 40710779523039232.0000 - mae: 93494504.0000 - val_loss: 69196578883108864.0000 - val_mae: 118050560.0000\n",
            "Epoch 35/200\n",
            "\u001b[1m847/847\u001b[0m \u001b[32m━━━━━━━━━━━━━━━━━━━━\u001b[0m\u001b[37m\u001b[0m \u001b[1m1s\u001b[0m 1ms/step - loss: 40559961746440192.0000 - mae: 93300096.0000 - val_loss: 67155593244180480.0000 - val_mae: 117618224.0000\n",
            "Epoch 36/200\n",
            "\u001b[1m847/847\u001b[0m \u001b[32m━━━━━━━━━━━━━━━━━━━━\u001b[0m\u001b[37m\u001b[0m \u001b[1m1s\u001b[0m 1ms/step - loss: 44161154385182720.0000 - mae: 94965800.0000 - val_loss: 64786287420243968.0000 - val_mae: 115919248.0000\n",
            "Epoch 37/200\n",
            "\u001b[1m847/847\u001b[0m \u001b[32m━━━━━━━━━━━━━━━━━━━━\u001b[0m\u001b[37m\u001b[0m \u001b[1m1s\u001b[0m 1ms/step - loss: 39221680001777664.0000 - mae: 88410672.0000 - val_loss: 63696503893393408.0000 - val_mae: 117480952.0000\n",
            "Epoch 38/200\n",
            "\u001b[1m847/847\u001b[0m \u001b[32m━━━━━━━━━━━━━━━━━━━━\u001b[0m\u001b[37m\u001b[0m \u001b[1m1s\u001b[0m 1ms/step - loss: 37429720861638656.0000 - mae: 87776168.0000 - val_loss: 64365801532030976.0000 - val_mae: 115991896.0000\n",
            "Epoch 39/200\n",
            "\u001b[1m847/847\u001b[0m \u001b[32m━━━━━━━━━━━━━━━━━━━━\u001b[0m\u001b[37m\u001b[0m \u001b[1m1s\u001b[0m 1ms/step - loss: 32409771676008448.0000 - mae: 83555152.0000 - val_loss: 60010489945522176.0000 - val_mae: 113164352.0000\n",
            "Epoch 40/200\n",
            "\u001b[1m847/847\u001b[0m \u001b[32m━━━━━━━━━━━━━━━━━━━━\u001b[0m\u001b[37m\u001b[0m \u001b[1m1s\u001b[0m 1ms/step - loss: 29763560720564224.0000 - mae: 80641016.0000 - val_loss: 58719409891442688.0000 - val_mae: 111981160.0000\n",
            "Epoch 41/200\n",
            "\u001b[1m847/847\u001b[0m \u001b[32m━━━━━━━━━━━━━━━━━━━━\u001b[0m\u001b[37m\u001b[0m \u001b[1m1s\u001b[0m 1ms/step - loss: 29021160591065088.0000 - mae: 79065248.0000 - val_loss: 58712220116189184.0000 - val_mae: 113725960.0000\n",
            "Epoch 42/200\n",
            "\u001b[1m847/847\u001b[0m \u001b[32m━━━━━━━━━━━━━━━━━━━━\u001b[0m\u001b[37m\u001b[0m \u001b[1m1s\u001b[0m 1ms/step - loss: 28886850521268224.0000 - mae: 77292272.0000 - val_loss: 60231779545513984.0000 - val_mae: 113225776.0000\n",
            "Epoch 43/200\n",
            "\u001b[1m847/847\u001b[0m \u001b[32m━━━━━━━━━━━━━━━━━━━━\u001b[0m\u001b[37m\u001b[0m \u001b[1m1s\u001b[0m 1ms/step - loss: 25615300917460992.0000 - mae: 76501184.0000 - val_loss: 59237129544269824.0000 - val_mae: 112642016.0000\n",
            "Epoch 44/200\n",
            "\u001b[1m847/847\u001b[0m \u001b[32m━━━━━━━━━━━━━━━━━━━━\u001b[0m\u001b[37m\u001b[0m \u001b[1m1s\u001b[0m 1ms/step - loss: 24172765284139008.0000 - mae: 73725496.0000 - val_loss: 57149917172334592.0000 - val_mae: 111935648.0000\n",
            "Epoch 45/200\n",
            "\u001b[1m847/847\u001b[0m \u001b[32m━━━━━━━━━━━━━━━━━━━━\u001b[0m\u001b[37m\u001b[0m \u001b[1m1s\u001b[0m 1ms/step - loss: 24068947334660096.0000 - mae: 72668376.0000 - val_loss: 57412103450918912.0000 - val_mae: 112950944.0000\n",
            "Epoch 46/200\n",
            "\u001b[1m847/847\u001b[0m \u001b[32m━━━━━━━━━━━━━━━━━━━━\u001b[0m\u001b[37m\u001b[0m \u001b[1m1s\u001b[0m 1ms/step - loss: 23537213203546112.0000 - mae: 71997984.0000 - val_loss: 56828112452714496.0000 - val_mae: 113851864.0000\n",
            "Epoch 47/200\n",
            "\u001b[1m847/847\u001b[0m \u001b[32m━━━━━━━━━━━━━━━━━━━━\u001b[0m\u001b[37m\u001b[0m \u001b[1m1s\u001b[0m 1ms/step - loss: 20916857951223808.0000 - mae: 68724008.0000 - val_loss: 54397586164940800.0000 - val_mae: 111887144.0000\n",
            "Epoch 48/200\n",
            "\u001b[1m847/847\u001b[0m \u001b[32m━━━━━━━━━━━━━━━━━━━━\u001b[0m\u001b[37m\u001b[0m \u001b[1m1s\u001b[0m 1ms/step - loss: 19403070957944832.0000 - mae: 67401208.0000 - val_loss: 54074419940687872.0000 - val_mae: 111193240.0000\n",
            "Epoch 49/200\n",
            "\u001b[1m847/847\u001b[0m \u001b[32m━━━━━━━━━━━━━━━━━━━━\u001b[0m\u001b[37m\u001b[0m \u001b[1m1s\u001b[0m 1ms/step - loss: 21104174359904256.0000 - mae: 69213016.0000 - val_loss: 57971192228741120.0000 - val_mae: 114045008.0000\n",
            "Epoch 50/200\n",
            "\u001b[1m847/847\u001b[0m \u001b[32m━━━━━━━━━━━━━━━━━━━━\u001b[0m\u001b[37m\u001b[0m \u001b[1m1s\u001b[0m 1ms/step - loss: 19482059701485568.0000 - mae: 67393952.0000 - val_loss: 55939092877148160.0000 - val_mae: 113330720.0000\n",
            "Epoch 51/200\n",
            "\u001b[1m847/847\u001b[0m \u001b[32m━━━━━━━━━━━━━━━━━━━━\u001b[0m\u001b[37m\u001b[0m \u001b[1m1s\u001b[0m 1ms/step - loss: 16491538397790208.0000 - mae: 63734896.0000 - val_loss: 55394078707154944.0000 - val_mae: 117079408.0000\n",
            "Epoch 52/200\n",
            "\u001b[1m847/847\u001b[0m \u001b[32m━━━━━━━━━━━━━━━━━━━━\u001b[0m\u001b[37m\u001b[0m \u001b[1m1s\u001b[0m 1ms/step - loss: 18492834243936256.0000 - mae: 65032420.0000 - val_loss: 55633944040701952.0000 - val_mae: 112850568.0000\n",
            "Epoch 53/200\n",
            "\u001b[1m847/847\u001b[0m \u001b[32m━━━━━━━━━━━━━━━━━━━━\u001b[0m\u001b[37m\u001b[0m \u001b[1m1s\u001b[0m 1ms/step - loss: 15544506698956800.0000 - mae: 60817480.0000 - val_loss: 56693710041120768.0000 - val_mae: 115932272.0000\n",
            "Epoch 54/200\n",
            "\u001b[1m847/847\u001b[0m \u001b[32m━━━━━━━━━━━━━━━━━━━━\u001b[0m\u001b[37m\u001b[0m \u001b[1m1s\u001b[0m 1ms/step - loss: 16713649410277376.0000 - mae: 62832712.0000 - val_loss: 54515955463618560.0000 - val_mae: 114690784.0000\n",
            "Epoch 55/200\n",
            "\u001b[1m847/847\u001b[0m \u001b[32m━━━━━━━━━━━━━━━━━━━━\u001b[0m\u001b[37m\u001b[0m \u001b[1m1s\u001b[0m 1ms/step - loss: 15330340302225408.0000 - mae: 61006688.0000 - val_loss: 54115475533070336.0000 - val_mae: 114713120.0000\n",
            "Epoch 56/200\n",
            "\u001b[1m847/847\u001b[0m \u001b[32m━━━━━━━━━━━━━━━━━━━━\u001b[0m\u001b[37m\u001b[0m \u001b[1m1s\u001b[0m 1ms/step - loss: 17039712589971456.0000 - mae: 62643528.0000 - val_loss: 55969977986973696.0000 - val_mae: 114398864.0000\n",
            "Epoch 57/200\n",
            "\u001b[1m847/847\u001b[0m \u001b[32m━━━━━━━━━━━━━━━━━━━━\u001b[0m\u001b[37m\u001b[0m \u001b[1m1s\u001b[0m 1ms/step - loss: 13805655903174656.0000 - mae: 58399240.0000 - val_loss: 54474199791566848.0000 - val_mae: 115607520.0000\n",
            "Epoch 58/200\n",
            "\u001b[1m847/847\u001b[0m \u001b[32m━━━━━━━━━━━━━━━━━━━━\u001b[0m\u001b[37m\u001b[0m \u001b[1m1s\u001b[0m 1ms/step - loss: 14602907060011008.0000 - mae: 60540152.0000 - val_loss: 52499339469127680.0000 - val_mae: 113217696.0000\n",
            "Epoch 59/200\n",
            "\u001b[1m847/847\u001b[0m \u001b[32m━━━━━━━━━━━━━━━━━━━━\u001b[0m\u001b[37m\u001b[0m \u001b[1m1s\u001b[0m 1ms/step - loss: 13692699337031680.0000 - mae: 59767708.0000 - val_loss: 54498105579536384.0000 - val_mae: 113940112.0000\n",
            "Epoch 60/200\n",
            "\u001b[1m847/847\u001b[0m \u001b[32m━━━━━━━━━━━━━━━━━━━━\u001b[0m\u001b[37m\u001b[0m \u001b[1m1s\u001b[0m 1ms/step - loss: 13587034551615488.0000 - mae: 57633076.0000 - val_loss: 51811195513995264.0000 - val_mae: 112482800.0000\n",
            "Epoch 61/200\n",
            "\u001b[1m847/847\u001b[0m \u001b[32m━━━━━━━━━━━━━━━━━━━━\u001b[0m\u001b[37m\u001b[0m \u001b[1m1s\u001b[0m 1ms/step - loss: 12563145486761984.0000 - mae: 55424536.0000 - val_loss: 53900271901736960.0000 - val_mae: 113046608.0000\n",
            "Epoch 62/200\n",
            "\u001b[1m847/847\u001b[0m \u001b[32m━━━━━━━━━━━━━━━━━━━━\u001b[0m\u001b[37m\u001b[0m \u001b[1m1s\u001b[0m 1ms/step - loss: 11659863398547456.0000 - mae: 53640812.0000 - val_loss: 53248673823326208.0000 - val_mae: 114801760.0000\n",
            "Epoch 63/200\n",
            "\u001b[1m847/847\u001b[0m \u001b[32m━━━━━━━━━━━━━━━━━━━━\u001b[0m\u001b[37m\u001b[0m \u001b[1m1s\u001b[0m 1ms/step - loss: 10918605730349056.0000 - mae: 54172640.0000 - val_loss: 54271679198658560.0000 - val_mae: 117272056.0000\n",
            "Epoch 64/200\n",
            "\u001b[1m847/847\u001b[0m \u001b[32m━━━━━━━━━━━━━━━━━━━━\u001b[0m\u001b[37m\u001b[0m \u001b[1m1s\u001b[0m 1ms/step - loss: 12436730640596992.0000 - mae: 55399796.0000 - val_loss: 54069828620648448.0000 - val_mae: 115625872.0000\n",
            "Epoch 65/200\n",
            "\u001b[1m847/847\u001b[0m \u001b[32m━━━━━━━━━━━━━━━━━━━━\u001b[0m\u001b[37m\u001b[0m \u001b[1m1s\u001b[0m 1ms/step - loss: 10469147066499072.0000 - mae: 51677428.0000 - val_loss: 55621913837305856.0000 - val_mae: 114274560.0000\n",
            "Epoch 66/200\n",
            "\u001b[1m847/847\u001b[0m \u001b[32m━━━━━━━━━━━━━━━━━━━━\u001b[0m\u001b[37m\u001b[0m \u001b[1m1s\u001b[0m 1ms/step - loss: 9301858707308544.0000 - mae: 51522892.0000 - val_loss: 55993218055012352.0000 - val_mae: 114710184.0000\n",
            "Epoch 67/200\n",
            "\u001b[1m847/847\u001b[0m \u001b[32m━━━━━━━━━━━━━━━━━━━━\u001b[0m\u001b[37m\u001b[0m \u001b[1m1s\u001b[0m 1ms/step - loss: 10452681235628032.0000 - mae: 52773300.0000 - val_loss: 55139039254151168.0000 - val_mae: 115035000.0000\n",
            "Epoch 68/200\n",
            "\u001b[1m847/847\u001b[0m \u001b[32m━━━━━━━━━━━━━━━━━━━━\u001b[0m\u001b[37m\u001b[0m \u001b[1m1s\u001b[0m 1ms/step - loss: 9591374936539136.0000 - mae: 50578944.0000 - val_loss: 56020211924467712.0000 - val_mae: 116609760.0000\n",
            "Epoch 69/200\n",
            "\u001b[1m847/847\u001b[0m \u001b[32m━━━━━━━━━━━━━━━━━━━━\u001b[0m\u001b[37m\u001b[0m \u001b[1m1s\u001b[0m 1ms/step - loss: 9991453287645184.0000 - mae: 51124896.0000 - val_loss: 54143689173237760.0000 - val_mae: 116731984.0000\n",
            "Epoch 70/200\n",
            "\u001b[1m847/847\u001b[0m \u001b[32m━━━━━━━━━━━━━━━━━━━━\u001b[0m\u001b[37m\u001b[0m \u001b[1m1s\u001b[0m 1ms/step - loss: 9630247611793408.0000 - mae: 51428392.0000 - val_loss: 57676192400015360.0000 - val_mae: 117964040.0000\n",
            "Epoch 71/200\n",
            "\u001b[1m847/847\u001b[0m \u001b[32m━━━━━━━━━━━━━━━━━━━━\u001b[0m\u001b[37m\u001b[0m \u001b[1m1s\u001b[0m 1ms/step - loss: 8303604154761216.0000 - mae: 48901408.0000 - val_loss: 54621216522108928.0000 - val_mae: 117294768.0000\n",
            "Epoch 72/200\n",
            "\u001b[1m847/847\u001b[0m \u001b[32m━━━━━━━━━━━━━━━━━━━━\u001b[0m\u001b[37m\u001b[0m \u001b[1m1s\u001b[0m 1ms/step - loss: 9112081282367488.0000 - mae: 49518804.0000 - val_loss: 55550329617383424.0000 - val_mae: 115375800.0000\n",
            "Epoch 73/200\n",
            "\u001b[1m847/847\u001b[0m \u001b[32m━━━━━━━━━━━━━━━━━━━━\u001b[0m\u001b[37m\u001b[0m \u001b[1m1s\u001b[0m 1ms/step - loss: 9535091537608704.0000 - mae: 50104380.0000 - val_loss: 57018542712684544.0000 - val_mae: 116991504.0000\n",
            "Epoch 74/200\n",
            "\u001b[1m847/847\u001b[0m \u001b[32m━━━━━━━━━━━━━━━━━━━━\u001b[0m\u001b[37m\u001b[0m \u001b[1m1s\u001b[0m 1ms/step - loss: 8317947198046208.0000 - mae: 47765552.0000 - val_loss: 55670893644349440.0000 - val_mae: 116468208.0000\n",
            "Epoch 75/200\n",
            "\u001b[1m847/847\u001b[0m \u001b[32m━━━━━━━━━━━━━━━━━━━━\u001b[0m\u001b[37m\u001b[0m \u001b[1m1s\u001b[0m 1ms/step - loss: 7975749973704704.0000 - mae: 47045332.0000 - val_loss: 58765507775430656.0000 - val_mae: 120059264.0000\n",
            "Epoch 76/200\n",
            "\u001b[1m847/847\u001b[0m \u001b[32m━━━━━━━━━━━━━━━━━━━━\u001b[0m\u001b[37m\u001b[0m \u001b[1m1s\u001b[0m 1ms/step - loss: 8507086820343808.0000 - mae: 48443000.0000 - val_loss: 55200079329361920.0000 - val_mae: 117755224.0000\n",
            "Epoch 77/200\n",
            "\u001b[1m847/847\u001b[0m \u001b[32m━━━━━━━━━━━━━━━━━━━━\u001b[0m\u001b[37m\u001b[0m \u001b[1m1s\u001b[0m 1ms/step - loss: 9250984819687424.0000 - mae: 48798104.0000 - val_loss: 56061980481421312.0000 - val_mae: 116381144.0000\n",
            "Epoch 78/200\n",
            "\u001b[1m847/847\u001b[0m \u001b[32m━━━━━━━━━━━━━━━━━━━━\u001b[0m\u001b[37m\u001b[0m \u001b[1m1s\u001b[0m 1ms/step - loss: 8049684614479872.0000 - mae: 47622804.0000 - val_loss: 54950838082207744.0000 - val_mae: 116671704.0000\n",
            "Epoch 79/200\n",
            "\u001b[1m847/847\u001b[0m \u001b[32m━━━━━━━━━━━━━━━━━━━━\u001b[0m\u001b[37m\u001b[0m \u001b[1m1s\u001b[0m 1ms/step - loss: 8624166018220032.0000 - mae: 47656316.0000 - val_loss: 56431446453125120.0000 - val_mae: 116684976.0000\n",
            "Epoch 80/200\n",
            "\u001b[1m847/847\u001b[0m \u001b[32m━━━━━━━━━━━━━━━━━━━━\u001b[0m\u001b[37m\u001b[0m \u001b[1m1s\u001b[0m 1ms/step - loss: 7292991907561472.0000 - mae: 45405388.0000 - val_loss: 58435426653831168.0000 - val_mae: 118397880.0000\n",
            "Epoch 81/200\n",
            "\u001b[1m847/847\u001b[0m \u001b[32m━━━━━━━━━━━━━━━━━━━━\u001b[0m\u001b[37m\u001b[0m \u001b[1m1s\u001b[0m 1ms/step - loss: 8193925722406912.0000 - mae: 47491640.0000 - val_loss: 53671358734794752.0000 - val_mae: 115501304.0000\n",
            "Epoch 82/200\n",
            "\u001b[1m847/847\u001b[0m \u001b[32m━━━━━━━━━━━━━━━━━━━━\u001b[0m\u001b[37m\u001b[0m \u001b[1m1s\u001b[0m 1ms/step - loss: 7378020448862208.0000 - mae: 45601948.0000 - val_loss: 55045383197294592.0000 - val_mae: 117976192.0000\n",
            "Epoch 83/200\n",
            "\u001b[1m847/847\u001b[0m \u001b[32m━━━━━━━━━━━━━━━━━━━━\u001b[0m\u001b[37m\u001b[0m \u001b[1m1s\u001b[0m 1ms/step - loss: 6712623177400320.0000 - mae: 44082940.0000 - val_loss: 59769911647404032.0000 - val_mae: 117362584.0000\n",
            "Epoch 84/200\n",
            "\u001b[1m847/847\u001b[0m \u001b[32m━━━━━━━━━━━━━━━━━━━━\u001b[0m\u001b[37m\u001b[0m \u001b[1m1s\u001b[0m 1ms/step - loss: 7638434516566016.0000 - mae: 45321820.0000 - val_loss: 57452076711542784.0000 - val_mae: 117110952.0000\n",
            "Epoch 85/200\n",
            "\u001b[1m847/847\u001b[0m \u001b[32m━━━━━━━━━━━━━━━━━━━━\u001b[0m\u001b[37m\u001b[0m \u001b[1m1s\u001b[0m 1ms/step - loss: 7861300369555456.0000 - mae: 45507316.0000 - val_loss: 55649616376365056.0000 - val_mae: 116015376.0000\n",
            "Epoch 86/200\n",
            "\u001b[1m847/847\u001b[0m \u001b[32m━━━━━━━━━━━━━━━━━━━━\u001b[0m\u001b[37m\u001b[0m \u001b[1m1s\u001b[0m 1ms/step - loss: 6506057262170112.0000 - mae: 42916092.0000 - val_loss: 57629978551910400.0000 - val_mae: 118317512.0000\n",
            "Epoch 87/200\n",
            "\u001b[1m847/847\u001b[0m \u001b[32m━━━━━━━━━━━━━━━━━━━━\u001b[0m\u001b[37m\u001b[0m \u001b[1m1s\u001b[0m 1ms/step - loss: 6787420032860160.0000 - mae: 43992432.0000 - val_loss: 58706159917334528.0000 - val_mae: 117133384.0000\n",
            "Epoch 88/200\n",
            "\u001b[1m847/847\u001b[0m \u001b[32m━━━━━━━━━━━━━━━━━━━━\u001b[0m\u001b[37m\u001b[0m \u001b[1m1s\u001b[0m 1ms/step - loss: 6611686077235200.0000 - mae: 42679456.0000 - val_loss: 56795788528844800.0000 - val_mae: 117188248.0000\n",
            "Epoch 89/200\n",
            "\u001b[1m847/847\u001b[0m \u001b[32m━━━━━━━━━━━━━━━━━━━━\u001b[0m\u001b[37m\u001b[0m \u001b[1m1s\u001b[0m 1ms/step - loss: 6535002657390592.0000 - mae: 42649320.0000 - val_loss: 57498685696638976.0000 - val_mae: 117225248.0000\n",
            "Epoch 90/200\n",
            "\u001b[1m847/847\u001b[0m \u001b[32m━━━━━━━━━━━━━━━━━━━━\u001b[0m\u001b[37m\u001b[0m \u001b[1m1s\u001b[0m 1ms/step - loss: 7536592252043264.0000 - mae: 44801064.0000 - val_loss: 54129893738283008.0000 - val_mae: 116094456.0000\n",
            "Epoch 91/200\n",
            "\u001b[1m847/847\u001b[0m \u001b[32m━━━━━━━━━━━━━━━━━━━━\u001b[0m\u001b[37m\u001b[0m \u001b[1m1s\u001b[0m 1ms/step - loss: 6184018466832384.0000 - mae: 42180888.0000 - val_loss: 58291467940003840.0000 - val_mae: 116666344.0000\n",
            "Epoch 92/200\n",
            "\u001b[1m847/847\u001b[0m \u001b[32m━━━━━━━━━━━━━━━━━━━━\u001b[0m\u001b[37m\u001b[0m \u001b[1m1s\u001b[0m 1ms/step - loss: 6369183633768448.0000 - mae: 42529088.0000 - val_loss: 55401882662731776.0000 - val_mae: 115734192.0000\n",
            "Epoch 93/200\n",
            "\u001b[1m847/847\u001b[0m \u001b[32m━━━━━━━━━━━━━━━━━━━━\u001b[0m\u001b[37m\u001b[0m \u001b[1m1s\u001b[0m 1ms/step - loss: 5802340292493312.0000 - mae: 40857936.0000 - val_loss: 58020197805588480.0000 - val_mae: 118611360.0000\n",
            "Epoch 94/200\n",
            "\u001b[1m847/847\u001b[0m \u001b[32m━━━━━━━━━━━━━━━━━━━━\u001b[0m\u001b[37m\u001b[0m \u001b[1m1s\u001b[0m 1ms/step - loss: 6603270625689600.0000 - mae: 42871664.0000 - val_loss: 55712082380718080.0000 - val_mae: 117145912.0000\n",
            "Epoch 95/200\n",
            "\u001b[1m847/847\u001b[0m \u001b[32m━━━━━━━━━━━━━━━━━━━━\u001b[0m\u001b[37m\u001b[0m \u001b[1m1s\u001b[0m 1ms/step - loss: 6760938875125760.0000 - mae: 43132348.0000 - val_loss: 57492153051381760.0000 - val_mae: 119491848.0000\n",
            "Epoch 96/200\n",
            "\u001b[1m847/847\u001b[0m \u001b[32m━━━━━━━━━━━━━━━━━━━━\u001b[0m\u001b[37m\u001b[0m \u001b[1m1s\u001b[0m 1ms/step - loss: 5975021600112640.0000 - mae: 41655148.0000 - val_loss: 54606879921274880.0000 - val_mae: 115936760.0000\n",
            "Epoch 97/200\n",
            "\u001b[1m847/847\u001b[0m \u001b[32m━━━━━━━━━━━━━━━━━━━━\u001b[0m\u001b[37m\u001b[0m \u001b[1m1s\u001b[0m 1ms/step - loss: 6611515889156096.0000 - mae: 42597148.0000 - val_loss: 56199518219141120.0000 - val_mae: 115415920.0000\n",
            "Epoch 98/200\n",
            "\u001b[1m678/847\u001b[0m \u001b[32m━━━━━━━━━━━━━━━━\u001b[0m\u001b[37m━━━━\u001b[0m \u001b[1m0s\u001b[0m 1ms/step - loss: 5770217158344704.0000 - mae: 40656348.0000"
          ]
        },
        {
          "ename": "KeyboardInterrupt",
          "evalue": "",
          "output_type": "error",
          "traceback": [
            "\u001b[0;31m---------------------------------------------------------------------------\u001b[0m",
            "\u001b[0;31mKeyboardInterrupt\u001b[0m                         Traceback (most recent call last)",
            "Cell \u001b[0;32mIn[263], line 161\u001b[0m\n\u001b[1;32m    158\u001b[0m model\u001b[38;5;241m.\u001b[39mcompile(optimizer\u001b[38;5;241m=\u001b[39m\u001b[38;5;124m'\u001b[39m\u001b[38;5;124madam\u001b[39m\u001b[38;5;124m'\u001b[39m, loss\u001b[38;5;241m=\u001b[39m\u001b[38;5;124m'\u001b[39m\u001b[38;5;124mmse\u001b[39m\u001b[38;5;124m'\u001b[39m, metrics\u001b[38;5;241m=\u001b[39m[\u001b[38;5;124m'\u001b[39m\u001b[38;5;124mmae\u001b[39m\u001b[38;5;124m'\u001b[39m])\n\u001b[1;32m    160\u001b[0m \u001b[38;5;66;03m# Train the model\u001b[39;00m\n\u001b[0;32m--> 161\u001b[0m history \u001b[38;5;241m=\u001b[39m \u001b[43mmodel\u001b[49m\u001b[38;5;241;43m.\u001b[39;49m\u001b[43mfit\u001b[49m\u001b[43m(\u001b[49m\u001b[43mX_train_processed\u001b[49m\u001b[43m,\u001b[49m\u001b[43m \u001b[49m\u001b[43my_train\u001b[49m\u001b[43m,\u001b[49m\u001b[43m \u001b[49m\u001b[43mepochs\u001b[49m\u001b[38;5;241;43m=\u001b[39;49m\u001b[38;5;241;43m200\u001b[39;49m\u001b[43m,\u001b[49m\u001b[43m \u001b[49m\u001b[43mbatch_size\u001b[49m\u001b[38;5;241;43m=\u001b[39;49m\u001b[38;5;241;43m16\u001b[39;49m\u001b[43m,\u001b[49m\u001b[43m \u001b[49m\u001b[43mvalidation_split\u001b[49m\u001b[38;5;241;43m=\u001b[39;49m\u001b[38;5;241;43m0.1\u001b[39;49m\u001b[43m)\u001b[49m\n\u001b[1;32m    164\u001b[0m y_pred \u001b[38;5;241m=\u001b[39m model\u001b[38;5;241m.\u001b[39mpredict(X_test_processed)\n",
            "File \u001b[0;32m~/Library/Python/3.9/lib/python/site-packages/keras/src/utils/traceback_utils.py:117\u001b[0m, in \u001b[0;36mfilter_traceback.<locals>.error_handler\u001b[0;34m(*args, **kwargs)\u001b[0m\n\u001b[1;32m    115\u001b[0m filtered_tb \u001b[38;5;241m=\u001b[39m \u001b[38;5;28;01mNone\u001b[39;00m\n\u001b[1;32m    116\u001b[0m \u001b[38;5;28;01mtry\u001b[39;00m:\n\u001b[0;32m--> 117\u001b[0m     \u001b[38;5;28;01mreturn\u001b[39;00m \u001b[43mfn\u001b[49m\u001b[43m(\u001b[49m\u001b[38;5;241;43m*\u001b[39;49m\u001b[43margs\u001b[49m\u001b[43m,\u001b[49m\u001b[43m \u001b[49m\u001b[38;5;241;43m*\u001b[39;49m\u001b[38;5;241;43m*\u001b[39;49m\u001b[43mkwargs\u001b[49m\u001b[43m)\u001b[49m\n\u001b[1;32m    118\u001b[0m \u001b[38;5;28;01mexcept\u001b[39;00m \u001b[38;5;167;01mException\u001b[39;00m \u001b[38;5;28;01mas\u001b[39;00m e:\n\u001b[1;32m    119\u001b[0m     filtered_tb \u001b[38;5;241m=\u001b[39m _process_traceback_frames(e\u001b[38;5;241m.\u001b[39m__traceback__)\n",
            "File \u001b[0;32m~/Library/Python/3.9/lib/python/site-packages/keras/src/backend/tensorflow/trainer.py:320\u001b[0m, in \u001b[0;36mTensorFlowTrainer.fit\u001b[0;34m(self, x, y, batch_size, epochs, verbose, callbacks, validation_split, validation_data, shuffle, class_weight, sample_weight, initial_epoch, steps_per_epoch, validation_steps, validation_batch_size, validation_freq)\u001b[0m\n\u001b[1;32m    318\u001b[0m \u001b[38;5;28;01mfor\u001b[39;00m step, iterator \u001b[38;5;129;01min\u001b[39;00m epoch_iterator\u001b[38;5;241m.\u001b[39menumerate_epoch():\n\u001b[1;32m    319\u001b[0m     callbacks\u001b[38;5;241m.\u001b[39mon_train_batch_begin(step)\n\u001b[0;32m--> 320\u001b[0m     logs \u001b[38;5;241m=\u001b[39m \u001b[38;5;28;43mself\u001b[39;49m\u001b[38;5;241;43m.\u001b[39;49m\u001b[43mtrain_function\u001b[49m\u001b[43m(\u001b[49m\u001b[43miterator\u001b[49m\u001b[43m)\u001b[49m\n\u001b[1;32m    321\u001b[0m     logs \u001b[38;5;241m=\u001b[39m \u001b[38;5;28mself\u001b[39m\u001b[38;5;241m.\u001b[39m_pythonify_logs(logs)\n\u001b[1;32m    322\u001b[0m     callbacks\u001b[38;5;241m.\u001b[39mon_train_batch_end(step, logs)\n",
            "File \u001b[0;32m~/Library/Python/3.9/lib/python/site-packages/tensorflow/python/util/traceback_utils.py:150\u001b[0m, in \u001b[0;36mfilter_traceback.<locals>.error_handler\u001b[0;34m(*args, **kwargs)\u001b[0m\n\u001b[1;32m    148\u001b[0m filtered_tb \u001b[38;5;241m=\u001b[39m \u001b[38;5;28;01mNone\u001b[39;00m\n\u001b[1;32m    149\u001b[0m \u001b[38;5;28;01mtry\u001b[39;00m:\n\u001b[0;32m--> 150\u001b[0m   \u001b[38;5;28;01mreturn\u001b[39;00m \u001b[43mfn\u001b[49m\u001b[43m(\u001b[49m\u001b[38;5;241;43m*\u001b[39;49m\u001b[43margs\u001b[49m\u001b[43m,\u001b[49m\u001b[43m \u001b[49m\u001b[38;5;241;43m*\u001b[39;49m\u001b[38;5;241;43m*\u001b[39;49m\u001b[43mkwargs\u001b[49m\u001b[43m)\u001b[49m\n\u001b[1;32m    151\u001b[0m \u001b[38;5;28;01mexcept\u001b[39;00m \u001b[38;5;167;01mException\u001b[39;00m \u001b[38;5;28;01mas\u001b[39;00m e:\n\u001b[1;32m    152\u001b[0m   filtered_tb \u001b[38;5;241m=\u001b[39m _process_traceback_frames(e\u001b[38;5;241m.\u001b[39m__traceback__)\n",
            "File \u001b[0;32m~/Library/Python/3.9/lib/python/site-packages/tensorflow/python/eager/polymorphic_function/polymorphic_function.py:833\u001b[0m, in \u001b[0;36mFunction.__call__\u001b[0;34m(self, *args, **kwds)\u001b[0m\n\u001b[1;32m    830\u001b[0m compiler \u001b[38;5;241m=\u001b[39m \u001b[38;5;124m\"\u001b[39m\u001b[38;5;124mxla\u001b[39m\u001b[38;5;124m\"\u001b[39m \u001b[38;5;28;01mif\u001b[39;00m \u001b[38;5;28mself\u001b[39m\u001b[38;5;241m.\u001b[39m_jit_compile \u001b[38;5;28;01melse\u001b[39;00m \u001b[38;5;124m\"\u001b[39m\u001b[38;5;124mnonXla\u001b[39m\u001b[38;5;124m\"\u001b[39m\n\u001b[1;32m    832\u001b[0m \u001b[38;5;28;01mwith\u001b[39;00m OptionalXlaContext(\u001b[38;5;28mself\u001b[39m\u001b[38;5;241m.\u001b[39m_jit_compile):\n\u001b[0;32m--> 833\u001b[0m   result \u001b[38;5;241m=\u001b[39m \u001b[38;5;28;43mself\u001b[39;49m\u001b[38;5;241;43m.\u001b[39;49m\u001b[43m_call\u001b[49m\u001b[43m(\u001b[49m\u001b[38;5;241;43m*\u001b[39;49m\u001b[43margs\u001b[49m\u001b[43m,\u001b[49m\u001b[43m \u001b[49m\u001b[38;5;241;43m*\u001b[39;49m\u001b[38;5;241;43m*\u001b[39;49m\u001b[43mkwds\u001b[49m\u001b[43m)\u001b[49m\n\u001b[1;32m    835\u001b[0m new_tracing_count \u001b[38;5;241m=\u001b[39m \u001b[38;5;28mself\u001b[39m\u001b[38;5;241m.\u001b[39mexperimental_get_tracing_count()\n\u001b[1;32m    836\u001b[0m without_tracing \u001b[38;5;241m=\u001b[39m (tracing_count \u001b[38;5;241m==\u001b[39m new_tracing_count)\n",
            "File \u001b[0;32m~/Library/Python/3.9/lib/python/site-packages/tensorflow/python/eager/polymorphic_function/polymorphic_function.py:878\u001b[0m, in \u001b[0;36mFunction._call\u001b[0;34m(self, *args, **kwds)\u001b[0m\n\u001b[1;32m    875\u001b[0m \u001b[38;5;28mself\u001b[39m\u001b[38;5;241m.\u001b[39m_lock\u001b[38;5;241m.\u001b[39mrelease()\n\u001b[1;32m    876\u001b[0m \u001b[38;5;66;03m# In this case we have not created variables on the first call. So we can\u001b[39;00m\n\u001b[1;32m    877\u001b[0m \u001b[38;5;66;03m# run the first trace but we should fail if variables are created.\u001b[39;00m\n\u001b[0;32m--> 878\u001b[0m results \u001b[38;5;241m=\u001b[39m \u001b[43mtracing_compilation\u001b[49m\u001b[38;5;241;43m.\u001b[39;49m\u001b[43mcall_function\u001b[49m\u001b[43m(\u001b[49m\n\u001b[1;32m    879\u001b[0m \u001b[43m    \u001b[49m\u001b[43margs\u001b[49m\u001b[43m,\u001b[49m\u001b[43m \u001b[49m\u001b[43mkwds\u001b[49m\u001b[43m,\u001b[49m\u001b[43m \u001b[49m\u001b[38;5;28;43mself\u001b[39;49m\u001b[38;5;241;43m.\u001b[39;49m\u001b[43m_variable_creation_config\u001b[49m\n\u001b[1;32m    880\u001b[0m \u001b[43m\u001b[49m\u001b[43m)\u001b[49m\n\u001b[1;32m    881\u001b[0m \u001b[38;5;28;01mif\u001b[39;00m \u001b[38;5;28mself\u001b[39m\u001b[38;5;241m.\u001b[39m_created_variables:\n\u001b[1;32m    882\u001b[0m   \u001b[38;5;28;01mraise\u001b[39;00m \u001b[38;5;167;01mValueError\u001b[39;00m(\u001b[38;5;124m\"\u001b[39m\u001b[38;5;124mCreating variables on a non-first call to a function\u001b[39m\u001b[38;5;124m\"\u001b[39m\n\u001b[1;32m    883\u001b[0m                    \u001b[38;5;124m\"\u001b[39m\u001b[38;5;124m decorated with tf.function.\u001b[39m\u001b[38;5;124m\"\u001b[39m)\n",
            "File \u001b[0;32m~/Library/Python/3.9/lib/python/site-packages/tensorflow/python/eager/polymorphic_function/tracing_compilation.py:139\u001b[0m, in \u001b[0;36mcall_function\u001b[0;34m(args, kwargs, tracing_options)\u001b[0m\n\u001b[1;32m    137\u001b[0m bound_args \u001b[38;5;241m=\u001b[39m function\u001b[38;5;241m.\u001b[39mfunction_type\u001b[38;5;241m.\u001b[39mbind(\u001b[38;5;241m*\u001b[39margs, \u001b[38;5;241m*\u001b[39m\u001b[38;5;241m*\u001b[39mkwargs)\n\u001b[1;32m    138\u001b[0m flat_inputs \u001b[38;5;241m=\u001b[39m function\u001b[38;5;241m.\u001b[39mfunction_type\u001b[38;5;241m.\u001b[39munpack_inputs(bound_args)\n\u001b[0;32m--> 139\u001b[0m \u001b[38;5;28;01mreturn\u001b[39;00m \u001b[43mfunction\u001b[49m\u001b[38;5;241;43m.\u001b[39;49m\u001b[43m_call_flat\u001b[49m\u001b[43m(\u001b[49m\u001b[43m  \u001b[49m\u001b[38;5;66;43;03m# pylint: disable=protected-access\u001b[39;49;00m\n\u001b[1;32m    140\u001b[0m \u001b[43m    \u001b[49m\u001b[43mflat_inputs\u001b[49m\u001b[43m,\u001b[49m\u001b[43m \u001b[49m\u001b[43mcaptured_inputs\u001b[49m\u001b[38;5;241;43m=\u001b[39;49m\u001b[43mfunction\u001b[49m\u001b[38;5;241;43m.\u001b[39;49m\u001b[43mcaptured_inputs\u001b[49m\n\u001b[1;32m    141\u001b[0m \u001b[43m\u001b[49m\u001b[43m)\u001b[49m\n",
            "File \u001b[0;32m~/Library/Python/3.9/lib/python/site-packages/tensorflow/python/eager/polymorphic_function/concrete_function.py:1322\u001b[0m, in \u001b[0;36mConcreteFunction._call_flat\u001b[0;34m(self, tensor_inputs, captured_inputs)\u001b[0m\n\u001b[1;32m   1318\u001b[0m possible_gradient_type \u001b[38;5;241m=\u001b[39m gradients_util\u001b[38;5;241m.\u001b[39mPossibleTapeGradientTypes(args)\n\u001b[1;32m   1319\u001b[0m \u001b[38;5;28;01mif\u001b[39;00m (possible_gradient_type \u001b[38;5;241m==\u001b[39m gradients_util\u001b[38;5;241m.\u001b[39mPOSSIBLE_GRADIENT_TYPES_NONE\n\u001b[1;32m   1320\u001b[0m     \u001b[38;5;129;01mand\u001b[39;00m executing_eagerly):\n\u001b[1;32m   1321\u001b[0m   \u001b[38;5;66;03m# No tape is watching; skip to running the function.\u001b[39;00m\n\u001b[0;32m-> 1322\u001b[0m   \u001b[38;5;28;01mreturn\u001b[39;00m \u001b[38;5;28;43mself\u001b[39;49m\u001b[38;5;241;43m.\u001b[39;49m\u001b[43m_inference_function\u001b[49m\u001b[38;5;241;43m.\u001b[39;49m\u001b[43mcall_preflattened\u001b[49m\u001b[43m(\u001b[49m\u001b[43margs\u001b[49m\u001b[43m)\u001b[49m\n\u001b[1;32m   1323\u001b[0m forward_backward \u001b[38;5;241m=\u001b[39m \u001b[38;5;28mself\u001b[39m\u001b[38;5;241m.\u001b[39m_select_forward_and_backward_functions(\n\u001b[1;32m   1324\u001b[0m     args,\n\u001b[1;32m   1325\u001b[0m     possible_gradient_type,\n\u001b[1;32m   1326\u001b[0m     executing_eagerly)\n\u001b[1;32m   1327\u001b[0m forward_function, args_with_tangents \u001b[38;5;241m=\u001b[39m forward_backward\u001b[38;5;241m.\u001b[39mforward()\n",
            "File \u001b[0;32m~/Library/Python/3.9/lib/python/site-packages/tensorflow/python/eager/polymorphic_function/atomic_function.py:216\u001b[0m, in \u001b[0;36mAtomicFunction.call_preflattened\u001b[0;34m(self, args)\u001b[0m\n\u001b[1;32m    214\u001b[0m \u001b[38;5;28;01mdef\u001b[39;00m \u001b[38;5;21mcall_preflattened\u001b[39m(\u001b[38;5;28mself\u001b[39m, args: Sequence[core\u001b[38;5;241m.\u001b[39mTensor]) \u001b[38;5;241m-\u001b[39m\u001b[38;5;241m>\u001b[39m Any:\n\u001b[1;32m    215\u001b[0m \u001b[38;5;250m  \u001b[39m\u001b[38;5;124;03m\"\"\"Calls with flattened tensor inputs and returns the structured output.\"\"\"\u001b[39;00m\n\u001b[0;32m--> 216\u001b[0m   flat_outputs \u001b[38;5;241m=\u001b[39m \u001b[38;5;28;43mself\u001b[39;49m\u001b[38;5;241;43m.\u001b[39;49m\u001b[43mcall_flat\u001b[49m\u001b[43m(\u001b[49m\u001b[38;5;241;43m*\u001b[39;49m\u001b[43margs\u001b[49m\u001b[43m)\u001b[49m\n\u001b[1;32m    217\u001b[0m   \u001b[38;5;28;01mreturn\u001b[39;00m \u001b[38;5;28mself\u001b[39m\u001b[38;5;241m.\u001b[39mfunction_type\u001b[38;5;241m.\u001b[39mpack_output(flat_outputs)\n",
            "File \u001b[0;32m~/Library/Python/3.9/lib/python/site-packages/tensorflow/python/eager/polymorphic_function/atomic_function.py:251\u001b[0m, in \u001b[0;36mAtomicFunction.call_flat\u001b[0;34m(self, *args)\u001b[0m\n\u001b[1;32m    249\u001b[0m \u001b[38;5;28;01mwith\u001b[39;00m record\u001b[38;5;241m.\u001b[39mstop_recording():\n\u001b[1;32m    250\u001b[0m   \u001b[38;5;28;01mif\u001b[39;00m \u001b[38;5;28mself\u001b[39m\u001b[38;5;241m.\u001b[39m_bound_context\u001b[38;5;241m.\u001b[39mexecuting_eagerly():\n\u001b[0;32m--> 251\u001b[0m     outputs \u001b[38;5;241m=\u001b[39m \u001b[38;5;28;43mself\u001b[39;49m\u001b[38;5;241;43m.\u001b[39;49m\u001b[43m_bound_context\u001b[49m\u001b[38;5;241;43m.\u001b[39;49m\u001b[43mcall_function\u001b[49m\u001b[43m(\u001b[49m\n\u001b[1;32m    252\u001b[0m \u001b[43m        \u001b[49m\u001b[38;5;28;43mself\u001b[39;49m\u001b[38;5;241;43m.\u001b[39;49m\u001b[43mname\u001b[49m\u001b[43m,\u001b[49m\n\u001b[1;32m    253\u001b[0m \u001b[43m        \u001b[49m\u001b[38;5;28;43mlist\u001b[39;49m\u001b[43m(\u001b[49m\u001b[43margs\u001b[49m\u001b[43m)\u001b[49m\u001b[43m,\u001b[49m\n\u001b[1;32m    254\u001b[0m \u001b[43m        \u001b[49m\u001b[38;5;28;43mlen\u001b[39;49m\u001b[43m(\u001b[49m\u001b[38;5;28;43mself\u001b[39;49m\u001b[38;5;241;43m.\u001b[39;49m\u001b[43mfunction_type\u001b[49m\u001b[38;5;241;43m.\u001b[39;49m\u001b[43mflat_outputs\u001b[49m\u001b[43m)\u001b[49m\u001b[43m,\u001b[49m\n\u001b[1;32m    255\u001b[0m \u001b[43m    \u001b[49m\u001b[43m)\u001b[49m\n\u001b[1;32m    256\u001b[0m   \u001b[38;5;28;01melse\u001b[39;00m:\n\u001b[1;32m    257\u001b[0m     outputs \u001b[38;5;241m=\u001b[39m make_call_op_in_graph(\n\u001b[1;32m    258\u001b[0m         \u001b[38;5;28mself\u001b[39m,\n\u001b[1;32m    259\u001b[0m         \u001b[38;5;28mlist\u001b[39m(args),\n\u001b[1;32m    260\u001b[0m         \u001b[38;5;28mself\u001b[39m\u001b[38;5;241m.\u001b[39m_bound_context\u001b[38;5;241m.\u001b[39mfunction_call_options\u001b[38;5;241m.\u001b[39mas_attrs(),\n\u001b[1;32m    261\u001b[0m     )\n",
            "File \u001b[0;32m~/Library/Python/3.9/lib/python/site-packages/tensorflow/python/eager/context.py:1552\u001b[0m, in \u001b[0;36mContext.call_function\u001b[0;34m(self, name, tensor_inputs, num_outputs)\u001b[0m\n\u001b[1;32m   1550\u001b[0m cancellation_context \u001b[38;5;241m=\u001b[39m cancellation\u001b[38;5;241m.\u001b[39mcontext()\n\u001b[1;32m   1551\u001b[0m \u001b[38;5;28;01mif\u001b[39;00m cancellation_context \u001b[38;5;129;01mis\u001b[39;00m \u001b[38;5;28;01mNone\u001b[39;00m:\n\u001b[0;32m-> 1552\u001b[0m   outputs \u001b[38;5;241m=\u001b[39m \u001b[43mexecute\u001b[49m\u001b[38;5;241;43m.\u001b[39;49m\u001b[43mexecute\u001b[49m\u001b[43m(\u001b[49m\n\u001b[1;32m   1553\u001b[0m \u001b[43m      \u001b[49m\u001b[43mname\u001b[49m\u001b[38;5;241;43m.\u001b[39;49m\u001b[43mdecode\u001b[49m\u001b[43m(\u001b[49m\u001b[38;5;124;43m\"\u001b[39;49m\u001b[38;5;124;43mutf-8\u001b[39;49m\u001b[38;5;124;43m\"\u001b[39;49m\u001b[43m)\u001b[49m\u001b[43m,\u001b[49m\n\u001b[1;32m   1554\u001b[0m \u001b[43m      \u001b[49m\u001b[43mnum_outputs\u001b[49m\u001b[38;5;241;43m=\u001b[39;49m\u001b[43mnum_outputs\u001b[49m\u001b[43m,\u001b[49m\n\u001b[1;32m   1555\u001b[0m \u001b[43m      \u001b[49m\u001b[43minputs\u001b[49m\u001b[38;5;241;43m=\u001b[39;49m\u001b[43mtensor_inputs\u001b[49m\u001b[43m,\u001b[49m\n\u001b[1;32m   1556\u001b[0m \u001b[43m      \u001b[49m\u001b[43mattrs\u001b[49m\u001b[38;5;241;43m=\u001b[39;49m\u001b[43mattrs\u001b[49m\u001b[43m,\u001b[49m\n\u001b[1;32m   1557\u001b[0m \u001b[43m      \u001b[49m\u001b[43mctx\u001b[49m\u001b[38;5;241;43m=\u001b[39;49m\u001b[38;5;28;43mself\u001b[39;49m\u001b[43m,\u001b[49m\n\u001b[1;32m   1558\u001b[0m \u001b[43m  \u001b[49m\u001b[43m)\u001b[49m\n\u001b[1;32m   1559\u001b[0m \u001b[38;5;28;01melse\u001b[39;00m:\n\u001b[1;32m   1560\u001b[0m   outputs \u001b[38;5;241m=\u001b[39m execute\u001b[38;5;241m.\u001b[39mexecute_with_cancellation(\n\u001b[1;32m   1561\u001b[0m       name\u001b[38;5;241m.\u001b[39mdecode(\u001b[38;5;124m\"\u001b[39m\u001b[38;5;124mutf-8\u001b[39m\u001b[38;5;124m\"\u001b[39m),\n\u001b[1;32m   1562\u001b[0m       num_outputs\u001b[38;5;241m=\u001b[39mnum_outputs,\n\u001b[0;32m   (...)\u001b[0m\n\u001b[1;32m   1566\u001b[0m       cancellation_manager\u001b[38;5;241m=\u001b[39mcancellation_context,\n\u001b[1;32m   1567\u001b[0m   )\n",
            "File \u001b[0;32m~/Library/Python/3.9/lib/python/site-packages/tensorflow/python/eager/execute.py:53\u001b[0m, in \u001b[0;36mquick_execute\u001b[0;34m(op_name, num_outputs, inputs, attrs, ctx, name)\u001b[0m\n\u001b[1;32m     51\u001b[0m \u001b[38;5;28;01mtry\u001b[39;00m:\n\u001b[1;32m     52\u001b[0m   ctx\u001b[38;5;241m.\u001b[39mensure_initialized()\n\u001b[0;32m---> 53\u001b[0m   tensors \u001b[38;5;241m=\u001b[39m \u001b[43mpywrap_tfe\u001b[49m\u001b[38;5;241;43m.\u001b[39;49m\u001b[43mTFE_Py_Execute\u001b[49m\u001b[43m(\u001b[49m\u001b[43mctx\u001b[49m\u001b[38;5;241;43m.\u001b[39;49m\u001b[43m_handle\u001b[49m\u001b[43m,\u001b[49m\u001b[43m \u001b[49m\u001b[43mdevice_name\u001b[49m\u001b[43m,\u001b[49m\u001b[43m \u001b[49m\u001b[43mop_name\u001b[49m\u001b[43m,\u001b[49m\n\u001b[1;32m     54\u001b[0m \u001b[43m                                      \u001b[49m\u001b[43minputs\u001b[49m\u001b[43m,\u001b[49m\u001b[43m \u001b[49m\u001b[43mattrs\u001b[49m\u001b[43m,\u001b[49m\u001b[43m \u001b[49m\u001b[43mnum_outputs\u001b[49m\u001b[43m)\u001b[49m\n\u001b[1;32m     55\u001b[0m \u001b[38;5;28;01mexcept\u001b[39;00m core\u001b[38;5;241m.\u001b[39m_NotOkStatusException \u001b[38;5;28;01mas\u001b[39;00m e:\n\u001b[1;32m     56\u001b[0m   \u001b[38;5;28;01mif\u001b[39;00m name \u001b[38;5;129;01mis\u001b[39;00m \u001b[38;5;129;01mnot\u001b[39;00m \u001b[38;5;28;01mNone\u001b[39;00m:\n",
            "\u001b[0;31mKeyboardInterrupt\u001b[0m: "
          ]
        }
      ],
      "source": [
        "import tensorflow as tf\n",
        "\n",
        "X_train = df_train.drop(columns=['price'])\n",
        "y_train = df_train['price']\n",
        "X_test = df_test\n",
        "\n",
        "\n",
        "categorical_cols = ['title', 'transmission', 'body_color', 'inside_color', 'body_status', 'body_type', 'engine']\n",
        "numerical_cols = ['year', 'mileage', 'volume', 'acceleration','fuel',\n",
        " 'esp',\n",
        " 'آخر',\n",
        " 'آفتاب',\n",
        " 'آلومینیوم',\n",
        " 'آمریکایی',\n",
        " 'آپشن',\n",
        " 'آینه',\n",
        " 'اتاق',\n",
        " 'ارتفاع',\n",
        " 'اساسی',\n",
        " 'استارت',\n",
        " 'استثنایی',\n",
        " 'اسفند',\n",
        " 'اسپرت',\n",
        " 'اصلی',\n",
        " 'اضافه',\n",
        " 'افتاب',\n",
        " 'اماده',\n",
        " 'انتقال',\n",
        " 'اندروید',\n",
        " 'اپشن',\n",
        " 'ایربگ',\n",
        " 'اینه',\n",
        " 'باتری',\n",
        " 'باربند',\n",
        " 'باند',\n",
        " 'بخاری',\n",
        " 'بدونه',\n",
        " 'برگه',\n",
        " 'بشرط',\n",
        " 'بلوتوث',\n",
        " 'بهترین',\n",
        " 'بگیره',\n",
        " 'تاشو',\n",
        " 'تایر',\n",
        " 'ترمز',\n",
        " 'ترک',\n",
        " 'تشکر',\n",
        " 'تصویر',\n",
        " 'تودوزی',\n",
        " 'تیکه',\n",
        " 'جانبی',\n",
        " 'جدید',\n",
        " 'جزیی',\n",
        " 'جفت',\n",
        " 'جوش',\n",
        " 'حالته',\n",
        " 'حساسیت',\n",
        " 'خارجی',\n",
        " 'خشک',\n",
        " 'خواب',\n",
        " 'خوابیده',\n",
        " 'خوب',\n",
        " 'خورده',\n",
        " 'خوردگی',\n",
        " 'خوش',\n",
        " 'خونگی',\n",
        " 'داشبورد',\n",
        " 'درحد',\n",
        " 'دریچه',\n",
        " 'دوخت',\n",
        " 'دوگانه',\n",
        " 'دینام',\n",
        " 'رادار',\n",
        " 'رادیاتور',\n",
        " 'رخ',\n",
        " 'رکاب',\n",
        " 'ریال',\n",
        " 'زنون',\n",
        " 'زیبایی',\n",
        " 'ساب',\n",
        " 'سالمه',\n",
        " 'ستون',\n",
        " 'سرامیک',\n",
        " 'سرحال',\n",
        " 'سرقت',\n",
        " 'سفارش',\n",
        " 'سلامت',\n",
        " 'سواری',\n",
        " 'سوختگی',\n",
        " 'سوز',\n",
        " 'سینی',\n",
        " 'شتاب',\n",
        " 'شمع',\n",
        " 'صافکاری',\n",
        " 'صدا',\n",
        " 'صوتی',\n",
        " 'ضبط',\n",
        " 'عیب',\n",
        " 'فرمون',\n",
        " 'قفل',\n",
        " 'مالیدگی',\n",
        " 'مسافرت',\n",
        " 'مقطوع',\n",
        " 'مموری',\n",
        " 'هدلایت',\n",
        " 'هیدرولیک',\n",
        " 'وارداتی',\n",
        " 'وایر',\n",
        " 'وخش',\n",
        " 'وسواس',\n",
        " 'ویندوز',\n",
        " 'پاور',\n",
        " 'پایونیر',\n",
        " 'پخش',\n",
        " 'چرمی',\n",
        " 'کارت',\n",
        " 'کلاچ',\n",
        " 'کیت',\n",
        " 'کیلس',\n",
        " 'گرمکن']\n",
        "\n",
        "\n",
        "preprocessor = ColumnTransformer(\n",
        "    transformers=[\n",
        "        ('num', StandardScaler(), numerical_cols),\n",
        "        ('cat', OneHotEncoder(handle_unknown='ignore'), categorical_cols)\n",
        "    ])\n",
        "\n",
        "\n",
        "X_train_processed = preprocessor.fit_transform(X_train)\n",
        "X_test_processed = preprocessor.transform(X_test)\n",
        "af = 'hard_silu'\n",
        "\n",
        "model = tf.keras.Sequential([\n",
        "    tf.keras.layers.InputLayer(input_shape=(X_train_processed.shape[1],)),\n",
        "    tf.keras.layers.Dense(256, activation=af),  # First hidden layer\n",
        "\n",
        "    tf.keras.layers.Dense(128, activation=af),  # First hidden layer\n",
        "    tf.keras.layers.Dense(64, activation=af),   # Second hidden layer\n",
        "    tf.keras.layers.Dense(32, activation=af),   # Third hidden layer\n",
        "    tf.keras.layers.Dense(1)  # Output layer (regression)\n",
        "])\n",
        "\n",
        "\n",
        "model.compile(optimizer='adam', loss='mse', metrics=['mae'])\n",
        "\n",
        "history = model.fit(X_train_processed, y_train, epochs=200, batch_size=16, validation_split=0.1)\n",
        "\n",
        "\n",
        "y_pred = model.predict(X_test_processed)\n"
      ]
    },
    {
      "cell_type": "code",
      "execution_count": 253,
      "metadata": {
        "id": "Xf9ItR3RIQOq"
      },
      "outputs": [],
      "source": [
        "pd.DataFrame({'price' : y_pred[:,0]}).to_csv('sheikh.csv')"
      ]
    }
  ],
  "metadata": {
    "colab": {
      "provenance": []
    },
    "kernelspec": {
      "display_name": "Python 3",
      "language": "python",
      "name": "python3"
    },
    "language_info": {
      "codemirror_mode": {
        "name": "ipython",
        "version": 3
      },
      "file_extension": ".py",
      "mimetype": "text/x-python",
      "name": "python",
      "nbconvert_exporter": "python",
      "pygments_lexer": "ipython3",
      "version": "3.9.6"
    }
  },
  "nbformat": 4,
  "nbformat_minor": 0
}
